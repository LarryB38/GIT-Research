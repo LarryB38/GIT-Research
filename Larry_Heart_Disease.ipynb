{
  "nbformat": 4,
  "nbformat_minor": 0,
  "metadata": {
    "colab": {
      "name": "Larry_Heart Disease.ipynb",
      "provenance": [],
      "include_colab_link": true
    },
    "kernelspec": {
      "name": "python3",
      "display_name": "Python 3"
    },
    "language_info": {
      "name": "python"
    }
  },
  "cells": [
    {
      "cell_type": "markdown",
      "metadata": {
        "id": "view-in-github",
        "colab_type": "text"
      },
      "source": [
        "<a href=\"https://colab.research.google.com/github/LarryB38/GIT-Research/blob/Heart-Disease-Predictions/Larry_Heart_Disease.ipynb\" target=\"_parent\"><img src=\"https://colab.research.google.com/assets/colab-badge.svg\" alt=\"Open In Colab\"/></a>"
      ]
    },
    {
      "cell_type": "code",
      "metadata": {
        "id": "0nd-dvXDfu4B"
      },
      "source": [
        "#use the updated dataset\n",
        "#tell Ryan and Collin also to change to new dataset\n",
        "\n",
        "# 0-4: treat 1-4 as \"1\"\n",
        "#change the y list manually\n",
        "#send article later?\n",
        "\n",
        "# Note: when using assigned discrete labels it's a classification, so use a Classification performance metric\n",
        "# accuracy is a good classification metric\n",
        "\n",
        "#Dr. Wang likes matthews correlation coefficient (good for imbalanced classes)"
      ],
      "execution_count": null,
      "outputs": []
    },
    {
      "cell_type": "code",
      "metadata": {
        "colab": {
          "base_uri": "https://localhost:8080/",
          "height": 35
        },
        "id": "ljFSU7w2jhzE",
        "outputId": "084b5e5f-40da-44f1-cef2-43e94088c05e"
      },
      "source": [
        "# 3 values to calculate:\n",
        "\"\"\"\n",
        "-accuracy\n",
        "-matthew correlation coefficient\n",
        "-AUROC (area under receiving operating curve)\n",
        "\"\"\""
      ],
      "execution_count": null,
      "outputs": [
        {
          "output_type": "execute_result",
          "data": {
            "application/vnd.google.colaboratory.intrinsic+json": {
              "type": "string"
            },
            "text/plain": [
              "'\\n-accuracy\\n-matthew correlation coefficient\\n-AUROC (area under receiving operating curve)\\n'"
            ]
          },
          "metadata": {
            "tags": []
          },
          "execution_count": 2
        }
      ]
    },
    {
      "cell_type": "code",
      "metadata": {
        "colab": {
          "base_uri": "https://localhost:8080/"
        },
        "id": "RMkKXbJVUtnU",
        "outputId": "828c9d01-f8a5-4203-8ac0-d56b95c0a45e"
      },
      "source": [
        "#import libraries\n",
        "import pandas as pd\n",
        "import numpy as np\n",
        "import matplotlib.pyplot as plt\n",
        "from sklearn import datasets, metrics, model_selection, svm\n",
        "import statsmodels.api as sm\n",
        "import seaborn as sns\n",
        "from sklearn.linear_model import LogisticRegression\n",
        "from statistics import mean\n",
        "from statistics import stdev\n",
        "from sklearn.metrics import r2_score \n",
        "from google.colab import drive\n",
        "from sklearn.metrics import classification_report\n",
        "from sklearn.metrics import roc_auc_score\n",
        "from sklearn.metrics import matthews_corrcoef\n",
        "import random\n",
        "from sklearn.metrics import accuracy_score\n",
        "from sklearn.metrics import f1_score\n",
        "from sklearn.preprocessing import OneHotEncoder\n",
        "drive.mount('/content/drive')\n"
      ],
      "execution_count": null,
      "outputs": [
        {
          "output_type": "stream",
          "text": [
            "/usr/local/lib/python3.7/dist-packages/statsmodels/tools/_testing.py:19: FutureWarning: pandas.util.testing is deprecated. Use the functions in the public API at pandas.testing instead.\n",
            "  import pandas.util.testing as tm\n"
          ],
          "name": "stderr"
        },
        {
          "output_type": "stream",
          "text": [
            "Mounted at /content/drive\n"
          ],
          "name": "stdout"
        }
      ]
    },
    {
      "cell_type": "code",
      "metadata": {
        "colab": {
          "base_uri": "https://localhost:8080/",
          "height": 243
        },
        "id": "Z9p9zaZnU95P",
        "outputId": "954d4285-0eeb-40cd-bd74-56b12fed486b"
      },
      "source": [
        "#load CSV file\n",
        "df=pd.read_csv('/content/drive/My Drive/Correct_Dataset.csv')\n",
        "x_input=df.copy()\n",
        "x_input_chol=df.copy()\n",
        "y_vals=df['Target']\n",
        "\n",
        "df.head()\n",
        "#this shows basic stats of the dataframe\n",
        "#df.describe()"
      ],
      "execution_count": null,
      "outputs": [
        {
          "output_type": "execute_result",
          "data": {
            "text/html": [
              "<div>\n",
              "<style scoped>\n",
              "    .dataframe tbody tr th:only-of-type {\n",
              "        vertical-align: middle;\n",
              "    }\n",
              "\n",
              "    .dataframe tbody tr th {\n",
              "        vertical-align: top;\n",
              "    }\n",
              "\n",
              "    .dataframe thead th {\n",
              "        text-align: right;\n",
              "    }\n",
              "</style>\n",
              "<table border=\"1\" class=\"dataframe\">\n",
              "  <thead>\n",
              "    <tr style=\"text-align: right;\">\n",
              "      <th></th>\n",
              "      <th>Unnamed: 0</th>\n",
              "      <th>Age</th>\n",
              "      <th>Sex</th>\n",
              "      <th>Chest_Pain</th>\n",
              "      <th>Resting_Blood_Pressure</th>\n",
              "      <th>Colestrol</th>\n",
              "      <th>Fasting_Blood_Sugar</th>\n",
              "      <th>Rest_ECG</th>\n",
              "      <th>MAX_Heart_Rate</th>\n",
              "      <th>Exercised_Induced_Angina</th>\n",
              "      <th>ST_Depression</th>\n",
              "      <th>Slope</th>\n",
              "      <th>Major_Vessels</th>\n",
              "      <th>Thalessemia</th>\n",
              "      <th>Target</th>\n",
              "    </tr>\n",
              "  </thead>\n",
              "  <tbody>\n",
              "    <tr>\n",
              "      <th>0</th>\n",
              "      <td>0</td>\n",
              "      <td>63</td>\n",
              "      <td>1</td>\n",
              "      <td>1</td>\n",
              "      <td>145</td>\n",
              "      <td>233</td>\n",
              "      <td>1</td>\n",
              "      <td>2</td>\n",
              "      <td>150</td>\n",
              "      <td>0</td>\n",
              "      <td>2.3</td>\n",
              "      <td>3</td>\n",
              "      <td>0</td>\n",
              "      <td>6</td>\n",
              "      <td>0</td>\n",
              "    </tr>\n",
              "    <tr>\n",
              "      <th>1</th>\n",
              "      <td>1</td>\n",
              "      <td>67</td>\n",
              "      <td>1</td>\n",
              "      <td>4</td>\n",
              "      <td>160</td>\n",
              "      <td>286</td>\n",
              "      <td>0</td>\n",
              "      <td>2</td>\n",
              "      <td>108</td>\n",
              "      <td>1</td>\n",
              "      <td>1.5</td>\n",
              "      <td>2</td>\n",
              "      <td>3</td>\n",
              "      <td>3</td>\n",
              "      <td>2</td>\n",
              "    </tr>\n",
              "    <tr>\n",
              "      <th>2</th>\n",
              "      <td>2</td>\n",
              "      <td>67</td>\n",
              "      <td>1</td>\n",
              "      <td>4</td>\n",
              "      <td>120</td>\n",
              "      <td>229</td>\n",
              "      <td>0</td>\n",
              "      <td>2</td>\n",
              "      <td>129</td>\n",
              "      <td>1</td>\n",
              "      <td>2.6</td>\n",
              "      <td>2</td>\n",
              "      <td>2</td>\n",
              "      <td>7</td>\n",
              "      <td>1</td>\n",
              "    </tr>\n",
              "    <tr>\n",
              "      <th>3</th>\n",
              "      <td>3</td>\n",
              "      <td>37</td>\n",
              "      <td>1</td>\n",
              "      <td>3</td>\n",
              "      <td>130</td>\n",
              "      <td>250</td>\n",
              "      <td>0</td>\n",
              "      <td>0</td>\n",
              "      <td>187</td>\n",
              "      <td>0</td>\n",
              "      <td>3.5</td>\n",
              "      <td>3</td>\n",
              "      <td>0</td>\n",
              "      <td>3</td>\n",
              "      <td>0</td>\n",
              "    </tr>\n",
              "    <tr>\n",
              "      <th>4</th>\n",
              "      <td>4</td>\n",
              "      <td>41</td>\n",
              "      <td>0</td>\n",
              "      <td>2</td>\n",
              "      <td>130</td>\n",
              "      <td>204</td>\n",
              "      <td>0</td>\n",
              "      <td>2</td>\n",
              "      <td>172</td>\n",
              "      <td>0</td>\n",
              "      <td>1.4</td>\n",
              "      <td>1</td>\n",
              "      <td>0</td>\n",
              "      <td>3</td>\n",
              "      <td>0</td>\n",
              "    </tr>\n",
              "  </tbody>\n",
              "</table>\n",
              "</div>"
            ],
            "text/plain": [
              "   Unnamed: 0  Age  Sex  Chest_Pain  ...  Slope  Major_Vessels  Thalessemia  Target\n",
              "0           0   63    1           1  ...      3              0            6       0\n",
              "1           1   67    1           4  ...      2              3            3       2\n",
              "2           2   67    1           4  ...      2              2            7       1\n",
              "3           3   37    1           3  ...      3              0            3       0\n",
              "4           4   41    0           2  ...      1              0            3       0\n",
              "\n",
              "[5 rows x 15 columns]"
            ]
          },
          "metadata": {
            "tags": []
          },
          "execution_count": 4
        }
      ]
    },
    {
      "cell_type": "code",
      "metadata": {
        "colab": {
          "base_uri": "https://localhost:8080/",
          "height": 461
        },
        "id": "pWUiUZlePqlQ",
        "outputId": "236da3f9-ebbf-47f1-90e5-34a1ef18e8d6"
      },
      "source": [
        "df"
      ],
      "execution_count": null,
      "outputs": [
        {
          "output_type": "execute_result",
          "data": {
            "text/html": [
              "<div>\n",
              "<style scoped>\n",
              "    .dataframe tbody tr th:only-of-type {\n",
              "        vertical-align: middle;\n",
              "    }\n",
              "\n",
              "    .dataframe tbody tr th {\n",
              "        vertical-align: top;\n",
              "    }\n",
              "\n",
              "    .dataframe thead th {\n",
              "        text-align: right;\n",
              "    }\n",
              "</style>\n",
              "<table border=\"1\" class=\"dataframe\">\n",
              "  <thead>\n",
              "    <tr style=\"text-align: right;\">\n",
              "      <th></th>\n",
              "      <th>Unnamed: 0</th>\n",
              "      <th>Age</th>\n",
              "      <th>Sex</th>\n",
              "      <th>Chest_Pain</th>\n",
              "      <th>Resting_Blood_Pressure</th>\n",
              "      <th>Colestrol</th>\n",
              "      <th>Fasting_Blood_Sugar</th>\n",
              "      <th>Rest_ECG</th>\n",
              "      <th>MAX_Heart_Rate</th>\n",
              "      <th>Exercised_Induced_Angina</th>\n",
              "      <th>ST_Depression</th>\n",
              "      <th>Slope</th>\n",
              "      <th>Major_Vessels</th>\n",
              "      <th>Thalessemia</th>\n",
              "      <th>Target</th>\n",
              "    </tr>\n",
              "  </thead>\n",
              "  <tbody>\n",
              "    <tr>\n",
              "      <th>0</th>\n",
              "      <td>0</td>\n",
              "      <td>63</td>\n",
              "      <td>1</td>\n",
              "      <td>1</td>\n",
              "      <td>145</td>\n",
              "      <td>233</td>\n",
              "      <td>1</td>\n",
              "      <td>2</td>\n",
              "      <td>150</td>\n",
              "      <td>0</td>\n",
              "      <td>2.3</td>\n",
              "      <td>3</td>\n",
              "      <td>0</td>\n",
              "      <td>6</td>\n",
              "      <td>0</td>\n",
              "    </tr>\n",
              "    <tr>\n",
              "      <th>1</th>\n",
              "      <td>1</td>\n",
              "      <td>67</td>\n",
              "      <td>1</td>\n",
              "      <td>4</td>\n",
              "      <td>160</td>\n",
              "      <td>286</td>\n",
              "      <td>0</td>\n",
              "      <td>2</td>\n",
              "      <td>108</td>\n",
              "      <td>1</td>\n",
              "      <td>1.5</td>\n",
              "      <td>2</td>\n",
              "      <td>3</td>\n",
              "      <td>3</td>\n",
              "      <td>2</td>\n",
              "    </tr>\n",
              "    <tr>\n",
              "      <th>2</th>\n",
              "      <td>2</td>\n",
              "      <td>67</td>\n",
              "      <td>1</td>\n",
              "      <td>4</td>\n",
              "      <td>120</td>\n",
              "      <td>229</td>\n",
              "      <td>0</td>\n",
              "      <td>2</td>\n",
              "      <td>129</td>\n",
              "      <td>1</td>\n",
              "      <td>2.6</td>\n",
              "      <td>2</td>\n",
              "      <td>2</td>\n",
              "      <td>7</td>\n",
              "      <td>1</td>\n",
              "    </tr>\n",
              "    <tr>\n",
              "      <th>3</th>\n",
              "      <td>3</td>\n",
              "      <td>37</td>\n",
              "      <td>1</td>\n",
              "      <td>3</td>\n",
              "      <td>130</td>\n",
              "      <td>250</td>\n",
              "      <td>0</td>\n",
              "      <td>0</td>\n",
              "      <td>187</td>\n",
              "      <td>0</td>\n",
              "      <td>3.5</td>\n",
              "      <td>3</td>\n",
              "      <td>0</td>\n",
              "      <td>3</td>\n",
              "      <td>0</td>\n",
              "    </tr>\n",
              "    <tr>\n",
              "      <th>4</th>\n",
              "      <td>4</td>\n",
              "      <td>41</td>\n",
              "      <td>0</td>\n",
              "      <td>2</td>\n",
              "      <td>130</td>\n",
              "      <td>204</td>\n",
              "      <td>0</td>\n",
              "      <td>2</td>\n",
              "      <td>172</td>\n",
              "      <td>0</td>\n",
              "      <td>1.4</td>\n",
              "      <td>1</td>\n",
              "      <td>0</td>\n",
              "      <td>3</td>\n",
              "      <td>0</td>\n",
              "    </tr>\n",
              "    <tr>\n",
              "      <th>...</th>\n",
              "      <td>...</td>\n",
              "      <td>...</td>\n",
              "      <td>...</td>\n",
              "      <td>...</td>\n",
              "      <td>...</td>\n",
              "      <td>...</td>\n",
              "      <td>...</td>\n",
              "      <td>...</td>\n",
              "      <td>...</td>\n",
              "      <td>...</td>\n",
              "      <td>...</td>\n",
              "      <td>...</td>\n",
              "      <td>...</td>\n",
              "      <td>...</td>\n",
              "      <td>...</td>\n",
              "    </tr>\n",
              "    <tr>\n",
              "      <th>298</th>\n",
              "      <td>298</td>\n",
              "      <td>45</td>\n",
              "      <td>1</td>\n",
              "      <td>1</td>\n",
              "      <td>110</td>\n",
              "      <td>264</td>\n",
              "      <td>0</td>\n",
              "      <td>0</td>\n",
              "      <td>132</td>\n",
              "      <td>0</td>\n",
              "      <td>1.2</td>\n",
              "      <td>2</td>\n",
              "      <td>0</td>\n",
              "      <td>7</td>\n",
              "      <td>1</td>\n",
              "    </tr>\n",
              "    <tr>\n",
              "      <th>299</th>\n",
              "      <td>299</td>\n",
              "      <td>68</td>\n",
              "      <td>1</td>\n",
              "      <td>4</td>\n",
              "      <td>144</td>\n",
              "      <td>193</td>\n",
              "      <td>1</td>\n",
              "      <td>0</td>\n",
              "      <td>141</td>\n",
              "      <td>0</td>\n",
              "      <td>3.4</td>\n",
              "      <td>2</td>\n",
              "      <td>2</td>\n",
              "      <td>7</td>\n",
              "      <td>2</td>\n",
              "    </tr>\n",
              "    <tr>\n",
              "      <th>300</th>\n",
              "      <td>300</td>\n",
              "      <td>57</td>\n",
              "      <td>1</td>\n",
              "      <td>4</td>\n",
              "      <td>130</td>\n",
              "      <td>131</td>\n",
              "      <td>0</td>\n",
              "      <td>0</td>\n",
              "      <td>115</td>\n",
              "      <td>1</td>\n",
              "      <td>1.2</td>\n",
              "      <td>2</td>\n",
              "      <td>1</td>\n",
              "      <td>7</td>\n",
              "      <td>3</td>\n",
              "    </tr>\n",
              "    <tr>\n",
              "      <th>301</th>\n",
              "      <td>301</td>\n",
              "      <td>57</td>\n",
              "      <td>0</td>\n",
              "      <td>2</td>\n",
              "      <td>130</td>\n",
              "      <td>236</td>\n",
              "      <td>0</td>\n",
              "      <td>2</td>\n",
              "      <td>174</td>\n",
              "      <td>0</td>\n",
              "      <td>0.0</td>\n",
              "      <td>2</td>\n",
              "      <td>1</td>\n",
              "      <td>3</td>\n",
              "      <td>1</td>\n",
              "    </tr>\n",
              "    <tr>\n",
              "      <th>302</th>\n",
              "      <td>302</td>\n",
              "      <td>38</td>\n",
              "      <td>1</td>\n",
              "      <td>3</td>\n",
              "      <td>138</td>\n",
              "      <td>175</td>\n",
              "      <td>0</td>\n",
              "      <td>0</td>\n",
              "      <td>173</td>\n",
              "      <td>0</td>\n",
              "      <td>0.0</td>\n",
              "      <td>1</td>\n",
              "      <td>?</td>\n",
              "      <td>3</td>\n",
              "      <td>0</td>\n",
              "    </tr>\n",
              "  </tbody>\n",
              "</table>\n",
              "<p>303 rows × 15 columns</p>\n",
              "</div>"
            ],
            "text/plain": [
              "     Unnamed: 0  Age  Sex  Chest_Pain  ...  Slope  Major_Vessels  Thalessemia  Target\n",
              "0             0   63    1           1  ...      3              0            6       0\n",
              "1             1   67    1           4  ...      2              3            3       2\n",
              "2             2   67    1           4  ...      2              2            7       1\n",
              "3             3   37    1           3  ...      3              0            3       0\n",
              "4             4   41    0           2  ...      1              0            3       0\n",
              "..          ...  ...  ...         ...  ...    ...            ...          ...     ...\n",
              "298         298   45    1           1  ...      2              0            7       1\n",
              "299         299   68    1           4  ...      2              2            7       2\n",
              "300         300   57    1           4  ...      2              1            7       3\n",
              "301         301   57    0           2  ...      2              1            3       1\n",
              "302         302   38    1           3  ...      1              ?            3       0\n",
              "\n",
              "[303 rows x 15 columns]"
            ]
          },
          "metadata": {
            "tags": []
          },
          "execution_count": 5
        }
      ]
    },
    {
      "cell_type": "code",
      "metadata": {
        "id": "SFe5wOxRozZY"
      },
      "source": [
        "# convert 1-4 targets into just 1's\n",
        "target_binarized_chol=[]\n",
        "for i in y_vals:\n",
        "  if i==0:\n",
        "    target_binarized_chol.append(0)\n",
        "  else:\n",
        "    target_binarized_chol.append(1)\n",
        "\n",
        "\n",
        "\n",
        "target_binarized_chol=np.array(target_binarized_chol)\n",
        "target_binarized_chol=target_binarized_chol.reshape(-1,1)\n",
        "#print(target_binarized_chol)"
      ],
      "execution_count": null,
      "outputs": []
    },
    {
      "cell_type": "markdown",
      "metadata": {
        "id": "hLHzHnAIIfGQ"
      },
      "source": [
        "##Histogram of Cholesterol for No Disease & Yes Disease\n"
      ]
    },
    {
      "cell_type": "code",
      "metadata": {
        "colab": {
          "base_uri": "https://localhost:8080/",
          "height": 396
        },
        "id": "AZuheb12eGdR",
        "outputId": "c4f121c8-5f05-426a-fb67-676572477250"
      },
      "source": [
        "#histogram of cholesterol values with (green) & without (red) heart disease\n",
        "# x-axis cholesterol\n",
        "# do it here^^\n",
        "#Hypothesis: mean chol values in disease vs no-disease should be different\n",
        "\n",
        "target_val=df['Target']\n",
        "zeros_list=[]\n",
        "ones_list=[]\n",
        "index=0\n",
        "for i in  target_val:\n",
        "  if i==0:\n",
        "    zeros_list.append(index)\n",
        "  else:\n",
        "    ones_list.append(index)\n",
        "  index +=1;\n",
        "\n",
        "# make dataframe of only target value 0\n",
        "zeros_df=df.drop(labels=ones_list,axis=0)\n",
        "\n",
        "# make dataframe of only target value 1,2,3\n",
        "ones_df=df.drop(labels=zeros_list,axis=0)\n",
        "\n",
        "\n",
        "# plot the histogram(s)\n",
        "sns.set_theme(); np.random.seed(0)\n",
        "ax = sns.histplot(zeros_df['Colestrol'],color='green')\n",
        "ax = sns.histplot(ones_df['Colestrol'],color='red')\n",
        "\n",
        "ax.set(title='Cholesterol to Heart Disease\\n\\nMean Cholesterol (0) = 242.640244\\nMean Cholesterol (1)= 251.474820')\n",
        "ax.set(xlabel=\"\\nCholesterol values with (red) & without (green) heart disease\", ylabel = \"Count\")\n",
        "\n",
        "# Average Cholesterol is slightly higher for folks with heart disease\n",
        "# Hypothesis is true.\n"
      ],
      "execution_count": null,
      "outputs": [
        {
          "output_type": "execute_result",
          "data": {
            "text/plain": [
              "[Text(0, 0.5, 'Count'),\n",
              " Text(0.5, 0, '\\nCholesterol values with (red) & without (green) heart disease')]"
            ]
          },
          "metadata": {
            "tags": []
          },
          "execution_count": 7
        },
        {
          "output_type": "display_data",
          "data": {
            "image/png": "[encoded data removed]",
            "text/plain": [
              "<Figure size 432x288 with 1 Axes>"
            ]
          },
          "metadata": {
            "tags": []
          }
        }
      ]
    },
    {
      "cell_type": "code",
      "metadata": {
        "colab": {
          "base_uri": "https://localhost:8080/"
        },
        "id": "bEqF3rtkJxHK",
        "outputId": "dffdd405-9384-4d66-ea45-c61f808b65af"
      },
      "source": [
        "print(ones_list)"
      ],
      "execution_count": null,
      "outputs": [
        {
          "output_type": "stream",
          "text": [
            "[1, 2, 6, 8, 9, 12, 16, 22, 23, 24, 29, 31, 32, 36, 37, 38, 40, 44, 45, 47, 52, 54, 55, 56, 57, 60, 62, 64, 65, 66, 68, 69, 71, 72, 73, 74, 76, 79, 83, 91, 95, 96, 97, 104, 106, 107, 108, 109, 110, 111, 113, 114, 118, 119, 120, 121, 123, 124, 126, 127, 136, 137, 138, 141, 143, 145, 146, 153, 154, 155, 156, 157, 158, 161, 168, 170, 172, 174, 175, 177, 180, 181, 184, 187, 188, 189, 191, 192, 193, 195, 199, 205, 206, 207, 209, 211, 213, 214, 223, 224, 228, 229, 231, 232, 235, 236, 237, 243, 245, 246, 247, 248, 251, 259, 261, 264, 265, 266, 267, 268, 270, 272, 274, 278, 280, 282, 284, 285, 286, 290, 292, 293, 294, 296, 297, 298, 299, 300, 301]\n"
          ],
          "name": "stdout"
        }
      ]
    },
    {
      "cell_type": "code",
      "metadata": {
        "colab": {
          "base_uri": "https://localhost:8080/",
          "height": 337
        },
        "id": "6DxsXjunHJoX",
        "outputId": "1ad08b4d-96f5-4ee7-96d3-96d31e93a22b"
      },
      "source": [
        "#zeros_df.describe()\n",
        "ones_df.describe()"
      ],
      "execution_count": null,
      "outputs": [
        {
          "output_type": "execute_result",
          "data": {
            "text/html": [
              "<div>\n",
              "<style scoped>\n",
              "    .dataframe tbody tr th:only-of-type {\n",
              "        vertical-align: middle;\n",
              "    }\n",
              "\n",
              "    .dataframe tbody tr th {\n",
              "        vertical-align: top;\n",
              "    }\n",
              "\n",
              "    .dataframe thead th {\n",
              "        text-align: right;\n",
              "    }\n",
              "</style>\n",
              "<table border=\"1\" class=\"dataframe\">\n",
              "  <thead>\n",
              "    <tr style=\"text-align: right;\">\n",
              "      <th></th>\n",
              "      <th>Unnamed: 0</th>\n",
              "      <th>Age</th>\n",
              "      <th>Sex</th>\n",
              "      <th>Chest_Pain</th>\n",
              "      <th>Resting_Blood_Pressure</th>\n",
              "      <th>Colestrol</th>\n",
              "      <th>Fasting_Blood_Sugar</th>\n",
              "      <th>Rest_ECG</th>\n",
              "      <th>MAX_Heart_Rate</th>\n",
              "      <th>Exercised_Induced_Angina</th>\n",
              "      <th>ST_Depression</th>\n",
              "      <th>Slope</th>\n",
              "      <th>Target</th>\n",
              "    </tr>\n",
              "  </thead>\n",
              "  <tbody>\n",
              "    <tr>\n",
              "      <th>count</th>\n",
              "      <td>139.000000</td>\n",
              "      <td>139.000000</td>\n",
              "      <td>139.000000</td>\n",
              "      <td>139.000000</td>\n",
              "      <td>139.000000</td>\n",
              "      <td>139.000000</td>\n",
              "      <td>139.000000</td>\n",
              "      <td>139.000000</td>\n",
              "      <td>139.000000</td>\n",
              "      <td>139.000000</td>\n",
              "      <td>139.000000</td>\n",
              "      <td>139.000000</td>\n",
              "      <td>139.000000</td>\n",
              "    </tr>\n",
              "    <tr>\n",
              "      <th>mean</th>\n",
              "      <td>155.633094</td>\n",
              "      <td>56.625899</td>\n",
              "      <td>0.820144</td>\n",
              "      <td>3.589928</td>\n",
              "      <td>134.568345</td>\n",
              "      <td>251.474820</td>\n",
              "      <td>0.158273</td>\n",
              "      <td>1.172662</td>\n",
              "      <td>139.258993</td>\n",
              "      <td>0.546763</td>\n",
              "      <td>1.574101</td>\n",
              "      <td>1.827338</td>\n",
              "      <td>2.043165</td>\n",
              "    </tr>\n",
              "    <tr>\n",
              "      <th>std</th>\n",
              "      <td>89.120188</td>\n",
              "      <td>7.938416</td>\n",
              "      <td>0.385457</td>\n",
              "      <td>0.823680</td>\n",
              "      <td>18.769019</td>\n",
              "      <td>49.486835</td>\n",
              "      <td>0.366317</td>\n",
              "      <td>0.977486</td>\n",
              "      <td>22.593233</td>\n",
              "      <td>0.499609</td>\n",
              "      <td>1.302580</td>\n",
              "      <td>0.563736</td>\n",
              "      <td>1.013464</td>\n",
              "    </tr>\n",
              "    <tr>\n",
              "      <th>min</th>\n",
              "      <td>1.000000</td>\n",
              "      <td>35.000000</td>\n",
              "      <td>0.000000</td>\n",
              "      <td>1.000000</td>\n",
              "      <td>100.000000</td>\n",
              "      <td>131.000000</td>\n",
              "      <td>0.000000</td>\n",
              "      <td>0.000000</td>\n",
              "      <td>71.000000</td>\n",
              "      <td>0.000000</td>\n",
              "      <td>0.000000</td>\n",
              "      <td>1.000000</td>\n",
              "      <td>1.000000</td>\n",
              "    </tr>\n",
              "    <tr>\n",
              "      <th>25%</th>\n",
              "      <td>73.500000</td>\n",
              "      <td>52.000000</td>\n",
              "      <td>1.000000</td>\n",
              "      <td>4.000000</td>\n",
              "      <td>120.000000</td>\n",
              "      <td>217.500000</td>\n",
              "      <td>0.000000</td>\n",
              "      <td>0.000000</td>\n",
              "      <td>125.000000</td>\n",
              "      <td>0.000000</td>\n",
              "      <td>0.550000</td>\n",
              "      <td>1.000000</td>\n",
              "      <td>1.000000</td>\n",
              "    </tr>\n",
              "    <tr>\n",
              "      <th>50%</th>\n",
              "      <td>155.000000</td>\n",
              "      <td>58.000000</td>\n",
              "      <td>1.000000</td>\n",
              "      <td>4.000000</td>\n",
              "      <td>130.000000</td>\n",
              "      <td>249.000000</td>\n",
              "      <td>0.000000</td>\n",
              "      <td>2.000000</td>\n",
              "      <td>142.000000</td>\n",
              "      <td>1.000000</td>\n",
              "      <td>1.400000</td>\n",
              "      <td>2.000000</td>\n",
              "      <td>2.000000</td>\n",
              "    </tr>\n",
              "    <tr>\n",
              "      <th>75%</th>\n",
              "      <td>233.500000</td>\n",
              "      <td>62.000000</td>\n",
              "      <td>1.000000</td>\n",
              "      <td>4.000000</td>\n",
              "      <td>145.000000</td>\n",
              "      <td>283.500000</td>\n",
              "      <td>0.000000</td>\n",
              "      <td>2.000000</td>\n",
              "      <td>156.500000</td>\n",
              "      <td>1.000000</td>\n",
              "      <td>2.500000</td>\n",
              "      <td>2.000000</td>\n",
              "      <td>3.000000</td>\n",
              "    </tr>\n",
              "    <tr>\n",
              "      <th>max</th>\n",
              "      <td>301.000000</td>\n",
              "      <td>77.000000</td>\n",
              "      <td>1.000000</td>\n",
              "      <td>4.000000</td>\n",
              "      <td>200.000000</td>\n",
              "      <td>409.000000</td>\n",
              "      <td>1.000000</td>\n",
              "      <td>2.000000</td>\n",
              "      <td>195.000000</td>\n",
              "      <td>1.000000</td>\n",
              "      <td>6.200000</td>\n",
              "      <td>3.000000</td>\n",
              "      <td>4.000000</td>\n",
              "    </tr>\n",
              "  </tbody>\n",
              "</table>\n",
              "</div>"
            ],
            "text/plain": [
              "       Unnamed: 0         Age  ...       Slope      Target\n",
              "count  139.000000  139.000000  ...  139.000000  139.000000\n",
              "mean   155.633094   56.625899  ...    1.827338    2.043165\n",
              "std     89.120188    7.938416  ...    0.563736    1.013464\n",
              "min      1.000000   35.000000  ...    1.000000    1.000000\n",
              "25%     73.500000   52.000000  ...    1.000000    1.000000\n",
              "50%    155.000000   58.000000  ...    2.000000    2.000000\n",
              "75%    233.500000   62.000000  ...    2.000000    3.000000\n",
              "max    301.000000   77.000000  ...    3.000000    4.000000\n",
              "\n",
              "[8 rows x 13 columns]"
            ]
          },
          "metadata": {
            "tags": []
          },
          "execution_count": 9
        }
      ]
    },
    {
      "cell_type": "markdown",
      "metadata": {
        "id": "guxuYQG6VsYJ"
      },
      "source": [
        "##Model Using only Cholesterol"
      ]
    },
    {
      "cell_type": "code",
      "metadata": {
        "colab": {
          "base_uri": "https://localhost:8080/"
        },
        "id": "788sxu2TVu05",
        "outputId": "5f93fbf6-6e38-44f1-b18f-5f74768b7270"
      },
      "source": [
        "# based only off of cholesterol\n",
        "\n",
        "x_chol=np.array(df['Colestrol'])\n",
        "x_chol=x_chol.reshape(-1,1)\n",
        "\n",
        "#fit model (only Cholesterol)\n",
        "reg_1chol=LogisticRegression().fit(x_chol,target_binarized_chol)\n",
        "y_predictions_1factor=reg_1chol.predict(x_chol)\n",
        "\n",
        "#R^2 value (only cholesterol)\n",
        "rsquared_chol=reg_1chol.score(x_chol,target_binarized_chol)\n",
        "print(reg_1chol.score(x_chol,target_binarized_chol))"
      ],
      "execution_count": null,
      "outputs": [
        {
          "output_type": "stream",
          "text": [
            "0.5445544554455446\n"
          ],
          "name": "stdout"
        },
        {
          "output_type": "stream",
          "text": [
            "/usr/local/lib/python3.7/dist-packages/sklearn/utils/validation.py:760: DataConversionWarning: A column-vector y was passed when a 1d array was expected. Please change the shape of y to (n_samples, ), for example using ravel().\n",
            "  y = column_or_1d(y, warn=True)\n"
          ],
          "name": "stderr"
        }
      ]
    },
    {
      "cell_type": "code",
      "metadata": {
        "colab": {
          "base_uri": "https://localhost:8080/"
        },
        "id": "XvZ4phVHq-Jw",
        "outputId": "d3ce4976-72a6-46cc-daa1-b7a0f43ba039"
      },
      "source": [
        "print(x_chol.shape)\n",
        "print(target_binarized_chol.shape)"
      ],
      "execution_count": null,
      "outputs": [
        {
          "output_type": "stream",
          "text": [
            "(303, 1)\n",
            "(303, 1)\n"
          ],
          "name": "stdout"
        }
      ]
    },
    {
      "cell_type": "code",
      "metadata": {
        "colab": {
          "base_uri": "https://localhost:8080/",
          "height": 366
        },
        "id": "-gmALeouVxDq",
        "outputId": "38ba77a1-f1ec-4f36-a475-a9a1f96e1b9a"
      },
      "source": [
        "#plot target predictions only off cholesterol (0 or 1)\n",
        "\n",
        "# y (predicted target) vs. x (cholesterol)\n",
        "plt.scatter(x_chol,y_predictions_1factor, s=14,color='lightgreen')\n",
        "\n",
        "#plot true cholesterol values\n",
        "#plt.scatter(x_chol,y_vals, s=14,color='red')\n",
        "\n",
        "plt.title('predicted target\\nbased only on Cholesterol',fontsize=25) #plot title\n",
        "\n",
        "#sort x_chol first\n",
        "# generate 50 samples?\n",
        "x_sortedSample=np.linspace(0,500,num=50)\n",
        "x_vals_sorted=x_sortedSample.reshape(-1,1)\n",
        "\n",
        "\n",
        "#plot curve of best fit\n",
        "plt.plot(x_vals_sorted,reg_1chol.predict_proba(x_vals_sorted)[:,1],color='blue',linewidth=1)\n",
        "#sort x_chol\n",
        "\n",
        "#or make my own list cholesterol range (5,10,15,20...)\n",
        "\n",
        "\n",
        "plt.xlabel('\\nCholesterol',fontsize=20)  # x-axis name\n",
        "plt.ylabel('\\nPredicted Target',fontsize=20)  # y-axis name\n",
        "\n",
        "# put R^2 on the plot\n",
        "#plt.annotate((\"r^2 = {:.4f}\".format(r2_score(y_vals, y_predictions_1factor))), (12, 90))\n",
        "\n",
        "plt.show()"
      ],
      "execution_count": null,
      "outputs": [
        {
          "output_type": "display_data",
          "data": {
            "image/png": "[encoded data removed]",
            "text/plain": [
              "<Figure size 432x288 with 1 Axes>"
            ]
          },
          "metadata": {
            "tags": []
          }
        }
      ]
    },
    {
      "cell_type": "code",
      "metadata": {
        "id": "rkuURNwh5dE4"
      },
      "source": [
        "# print parameters of this logistic model here:\n"
      ],
      "execution_count": null,
      "outputs": []
    },
    {
      "cell_type": "code",
      "metadata": {
        "colab": {
          "base_uri": "https://localhost:8080/"
        },
        "id": "qHwc1SFUszYd",
        "outputId": "b4eb6b4c-bb2a-4a36-a89a-1e83b13ef5af"
      },
      "source": [
        "# calculate these 3: accuracy, matthew's coefficient, AUROC\n",
        "\n",
        "# accuracy\n",
        "targets=['0=No Disease', '1=Disease']\n",
        "print(classification_report(target_binarized_chol,y_predictions_1factor,target_names=targets))\n",
        "# ^^ macro avg? weighted avg?\n"
      ],
      "execution_count": null,
      "outputs": [
        {
          "output_type": "stream",
          "text": [
            "              precision    recall  f1-score   support\n",
            "\n",
            "0=No Disease       0.55      0.85      0.67       164\n",
            "   1=Disease       0.51      0.18      0.27       139\n",
            "\n",
            "    accuracy                           0.54       303\n",
            "   macro avg       0.53      0.52      0.47       303\n",
            "weighted avg       0.53      0.54      0.48       303\n",
            "\n"
          ],
          "name": "stdout"
        }
      ]
    },
    {
      "cell_type": "code",
      "metadata": {
        "colab": {
          "base_uri": "https://localhost:8080/"
        },
        "id": "2AJ2nD5uu1Mn",
        "outputId": "1c650ae8-4639-4907-ee36-7c9153a54d36"
      },
      "source": [
        "# matthew's correlation coefficient\n",
        "print(\"Matthew's coefficient (only cholesterol) is: \", matthews_corrcoef(target_binarized_chol,y_predictions_1factor))\n",
        "\n",
        "# AUROC\n",
        "#print(\"\\nAUROC (true vs. predicted) is: \", roc_auc_score(target_binarized_chol,y_predictions_1factor)) << incorrect\n",
        "\n",
        "# is it true y vs. confidence score?\n",
        "# https://scikit-learn.org/stable/modules/generated/sklearn.metrics.roc_auc_score.html \n",
        "# it say: y_true vs. y_score\n",
        "print(\"\\nAUROC (true vs. probability is) : \",roc_auc_score(target_binarized_chol,reg_1chol.predict_proba(x_chol)[:,1]))\n",
        "#same as decision_function\n",
        "print(\"\\nAUROC (true vs. confidence score) is: \", roc_auc_score(target_binarized_chol,reg_1chol.decision_function(x_chol)))"
      ],
      "execution_count": null,
      "outputs": [
        {
          "output_type": "stream",
          "text": [
            "Matthew's coefficient (only cholesterol) is:  0.045357502805109716\n",
            "\n",
            "AUROC (true vs. probability is) :  0.5701658185646605\n",
            "\n",
            "AUROC (true vs. confidence score) is:  0.5701658185646605\n"
          ],
          "name": "stdout"
        }
      ]
    },
    {
      "cell_type": "code",
      "metadata": {
        "id": "CX7_OYT2voAW"
      },
      "source": [
        "#plot the Receiver Operator Curve"
      ],
      "execution_count": null,
      "outputs": []
    },
    {
      "cell_type": "code",
      "metadata": {
        "colab": {
          "base_uri": "https://localhost:8080/"
        },
        "id": "Q7prIsv7VzWh",
        "outputId": "57bd12a0-7bee-4950-ba35-744ecb558a70"
      },
      "source": [
        "# plot statistics\n",
        "#xChol=sm.add_constant(x_chol)\n",
        "#results_1chol=sm.Logit(y_predictions_1factor,xChol).fit()\n",
        "\n",
        "#very low coefficient\n",
        "print(reg_1chol.coef_)\n",
        "print(reg_1chol.intercept_)"
      ],
      "execution_count": null,
      "outputs": [
        {
          "output_type": "stream",
          "text": [
            "[[0.00333884]]\n",
            "[-0.98981774]\n"
          ],
          "name": "stdout"
        }
      ]
    },
    {
      "cell_type": "code",
      "metadata": {
        "colab": {
          "base_uri": "https://localhost:8080/"
        },
        "id": "v70N2Z2bxOhB",
        "outputId": "c8a90ddb-03ef-4f99-e47e-0fc8478bf91e"
      },
      "source": [
        "# accuracy & f1-score manually:\n",
        "\n",
        "#accuracy\n",
        "print(\"accuracy: \",accuracy_score(target_binarized_chol,y_predictions_1factor))\n",
        "\n",
        "#f1 scores\n",
        "print(\"f1 score (macro): \",f1_score(target_binarized_chol,y_predictions_1factor,average='macro'))\n",
        "print(\"f1 score (weighted): \",f1_score(target_binarized_chol,y_predictions_1factor,average='weighted'))"
      ],
      "execution_count": null,
      "outputs": [
        {
          "output_type": "stream",
          "text": [
            "accuracy:  0.5445544554455446\n",
            "f1 score (macro):  0.4679069530693271\n",
            "f1 score (weighted):  0.48456945358589615\n"
          ],
          "name": "stdout"
        }
      ]
    },
    {
      "cell_type": "code",
      "metadata": {
        "colab": {
          "base_uri": "https://localhost:8080/",
          "height": 358
        },
        "id": "44fiX2UuyZ_E",
        "outputId": "d70baa82-a267-4132-c2b3-dd7ab3b2fd0a"
      },
      "source": [
        "# generate the receiver-operating curve for cholesterol model\n",
        "metrics.plot_roc_curve(reg_1chol, x_chol, target_binarized_chol,color='green')  \n",
        "plt.title('ROC Curve \\nfor Cholesterol Model',fontsize=20)\n",
        "plt.xlabel('\\nFalse Positive Rate\\n(Positive label=1)',fontsize=13)  \n",
        "plt.ylabel('\\nTrue Positive Rate\\n(Positive label=1)',fontsize=13)\n",
        "plt.plot([0, 1], [0, 1], linestyle='--', lw=1, color='red', label='Random')\n",
        "plt.show()\n"
      ],
      "execution_count": null,
      "outputs": [
        {
          "output_type": "display_data",
          "data": {
            "image/png": "[encoded data removed]",
            "text/plain": [
              "<Figure size 432x288 with 1 Axes>"
            ]
          },
          "metadata": {
            "tags": []
          }
        }
      ]
    },
    {
      "cell_type": "code",
      "metadata": {
        "colab": {
          "base_uri": "https://localhost:8080/"
        },
        "id": "jF7CFRnK0SpI",
        "outputId": "6c3833a1-70e8-45f3-8dcd-e41f776f9c4e"
      },
      "source": [
        "# manually calculate sensitivity & specificity\n",
        "\n",
        "true_y_list=[] #hold the true 0 or 1\n",
        "pred_y_list=[] #hold the predicted 0 or 1\n",
        "\n",
        "true_positives=0\n",
        "false_positives=0\n",
        "false_negatives=0\n",
        "true_negatives=0\n",
        "\n",
        "y_predictions_1factor=y_predictions_1factor.reshape(-1,1)\n",
        "\n",
        "\n",
        "for i in y_vals:\n",
        "  if i==0:\n",
        "    true_y_list.append(0)\n",
        "  else:\n",
        "    true_y_list.append(1)\n",
        "\n",
        "for i in y_predictions_1factor:\n",
        "  if i==0:\n",
        "    pred_y_list.append(0)\n",
        "  else:\n",
        "    pred_y_list.append(1)\n",
        "\n",
        "for index in range(len(pred_y_list)):\n",
        "  if true_y_list[index]==1 and pred_y_list[index]==1:\n",
        "    # true positive (both true and predicted are 1)\n",
        "    true_positives +=1\n",
        "  elif true_y_list[index]==0 and pred_y_list[index]==1:\n",
        "    # false positive (true is 0 but pred is 1)\n",
        "    false_positives +=1\n",
        "  elif true_y_list[index]==1 and pred_y_list[index]==0:\n",
        "    # false negative (true is 1 but pred is 0)\n",
        "    false_negatives +=1\n",
        "  elif true_y_list[index]==0 and pred_y_list[index]==0:\n",
        "    # true negative (both true and pred are 0)\n",
        "    true_negatives +=1\n",
        "\n",
        "print(\"total values:\",len(true_y_list),'\\n')\n",
        "print('true positives:',true_positives)\n",
        "print('false positives:',false_positives)\n",
        "print('false negatives:',false_negatives)\n",
        "print('true negatives:',true_negatives)\n"
      ],
      "execution_count": null,
      "outputs": [
        {
          "output_type": "stream",
          "text": [
            "total values: 303 \n",
            "\n",
            "true positives: 25\n",
            "false positives: 24\n",
            "false negatives: 114\n",
            "true negatives: 140\n"
          ],
          "name": "stdout"
        }
      ]
    },
    {
      "cell_type": "code",
      "metadata": {
        "id": "wUl-ljoMEuR8"
      },
      "source": [
        "# Handmade Confusion Matrix:\n",
        "# https://docs.google.com/drawings/d/e/2PACX-1vTk7WTsgaRZkyEYizR5OJ5Ak6j84Hh6VxPjFT0WzdIHi03MIpWUp9vlUTv8oWTFg-atkTxFE2wTlfmR/pub?w=960&h=720"
      ],
      "execution_count": null,
      "outputs": []
    },
    {
      "cell_type": "markdown",
      "metadata": {
        "id": "AnzAauAyV09P"
      },
      "source": [
        "##Model Using all variables"
      ]
    },
    {
      "cell_type": "code",
      "metadata": {
        "colab": {
          "base_uri": "https://localhost:8080/"
        },
        "id": "x74Vu30WjqXf",
        "outputId": "e686d622-dce2-4520-fe98-67252d84eb61"
      },
      "source": [
        "## indicate which input cols can use one hot encoding\n",
        "input_cols_oneHotEncoding = []\n",
        "input_cols_others = []\n",
        "x_post=pd.DataFrame()\n",
        "\n",
        "## Data analysis to see which inputs can use one hot encoding\n",
        "for i in df:\n",
        "  if(i == 'Target'):\n",
        "    pass;\n",
        "  elif(len(df[i].unique()) < 10): # category has less than 10 distinct values\n",
        "    print('Unique values in {} are: {}'.format(i, df[i].unique()))\n",
        "\n",
        "    # append the column name\n",
        "    input_cols_oneHotEncoding.append(i)\n",
        "  else: \n",
        "    # append the column name\n",
        "    input_cols_others.append(i)"
      ],
      "execution_count": null,
      "outputs": [
        {
          "output_type": "stream",
          "text": [
            "Unique values in Sex are: [1 0]\n",
            "Unique values in Chest_Pain are: [1 4 3 2]\n",
            "Unique values in Fasting_Blood_Sugar are: [1 0]\n",
            "Unique values in Rest_ECG are: [2 0 1]\n",
            "Unique values in Exercised_Induced_Angina are: [0 1]\n",
            "Unique values in Slope are: [3 2 1]\n",
            "Unique values in Major_Vessels are: ['0' '3' '2' '1' '?']\n",
            "Unique values in Thalessemia are: ['6' '3' '7' '?']\n"
          ],
          "name": "stdout"
        }
      ]
    },
    {
      "cell_type": "code",
      "metadata": {
        "colab": {
          "base_uri": "https://localhost:8080/",
          "height": 226
        },
        "id": "-GTGFpvqV0JF",
        "outputId": "833655b7-ff1e-4630-83df-41d85e1c604e"
      },
      "source": [
        "\n",
        "\n",
        "## indicates string cols ##\n",
        "strClasses = input_cols_oneHotEncoding\n",
        "\n",
        "for i in strClasses:\n",
        "  # one hot encoding\n",
        "  enc = OneHotEncoder(handle_unknown='ignore')\n",
        "\n",
        "  # get Column\n",
        "  input_data = df[i].values.reshape(-1,1)\n",
        "\n",
        "  # Fit\n",
        "  enc.fit(input_data)\n",
        "  output_array = enc.transform(input_data).toarray()\n",
        "  \n",
        "  # this will only work with 2 values #\n",
        "  # X_postprocessing[i+'_one_hot_encoder'], X_postprocessing[i+'one_hot_encoder'] = output_array.T \n",
        "\n",
        "  # for more than 2 values\n",
        "  for j in range(output_array.shape[1]):\n",
        "    x_post[i+'_one_hot_encoder_'+str(j)] = output_array[:,j]\n",
        "\n",
        "x_post.head()"
      ],
      "execution_count": null,
      "outputs": [
        {
          "output_type": "execute_result",
          "data": {
            "text/html": [
              "<div>\n",
              "<style scoped>\n",
              "    .dataframe tbody tr th:only-of-type {\n",
              "        vertical-align: middle;\n",
              "    }\n",
              "\n",
              "    .dataframe tbody tr th {\n",
              "        vertical-align: top;\n",
              "    }\n",
              "\n",
              "    .dataframe thead th {\n",
              "        text-align: right;\n",
              "    }\n",
              "</style>\n",
              "<table border=\"1\" class=\"dataframe\">\n",
              "  <thead>\n",
              "    <tr style=\"text-align: right;\">\n",
              "      <th></th>\n",
              "      <th>Sex_one_hot_encoder_0</th>\n",
              "      <th>Sex_one_hot_encoder_1</th>\n",
              "      <th>Chest_Pain_one_hot_encoder_0</th>\n",
              "      <th>Chest_Pain_one_hot_encoder_1</th>\n",
              "      <th>Chest_Pain_one_hot_encoder_2</th>\n",
              "      <th>Chest_Pain_one_hot_encoder_3</th>\n",
              "      <th>Fasting_Blood_Sugar_one_hot_encoder_0</th>\n",
              "      <th>Fasting_Blood_Sugar_one_hot_encoder_1</th>\n",
              "      <th>Rest_ECG_one_hot_encoder_0</th>\n",
              "      <th>Rest_ECG_one_hot_encoder_1</th>\n",
              "      <th>Rest_ECG_one_hot_encoder_2</th>\n",
              "      <th>Exercised_Induced_Angina_one_hot_encoder_0</th>\n",
              "      <th>Exercised_Induced_Angina_one_hot_encoder_1</th>\n",
              "      <th>Slope_one_hot_encoder_0</th>\n",
              "      <th>Slope_one_hot_encoder_1</th>\n",
              "      <th>Slope_one_hot_encoder_2</th>\n",
              "      <th>Major_Vessels_one_hot_encoder_0</th>\n",
              "      <th>Major_Vessels_one_hot_encoder_1</th>\n",
              "      <th>Major_Vessels_one_hot_encoder_2</th>\n",
              "      <th>Major_Vessels_one_hot_encoder_3</th>\n",
              "      <th>Major_Vessels_one_hot_encoder_4</th>\n",
              "      <th>Thalessemia_one_hot_encoder_0</th>\n",
              "      <th>Thalessemia_one_hot_encoder_1</th>\n",
              "      <th>Thalessemia_one_hot_encoder_2</th>\n",
              "      <th>Thalessemia_one_hot_encoder_3</th>\n",
              "    </tr>\n",
              "  </thead>\n",
              "  <tbody>\n",
              "    <tr>\n",
              "      <th>0</th>\n",
              "      <td>0.0</td>\n",
              "      <td>1.0</td>\n",
              "      <td>1.0</td>\n",
              "      <td>0.0</td>\n",
              "      <td>0.0</td>\n",
              "      <td>0.0</td>\n",
              "      <td>0.0</td>\n",
              "      <td>1.0</td>\n",
              "      <td>0.0</td>\n",
              "      <td>0.0</td>\n",
              "      <td>1.0</td>\n",
              "      <td>1.0</td>\n",
              "      <td>0.0</td>\n",
              "      <td>0.0</td>\n",
              "      <td>0.0</td>\n",
              "      <td>1.0</td>\n",
              "      <td>1.0</td>\n",
              "      <td>0.0</td>\n",
              "      <td>0.0</td>\n",
              "      <td>0.0</td>\n",
              "      <td>0.0</td>\n",
              "      <td>0.0</td>\n",
              "      <td>1.0</td>\n",
              "      <td>0.0</td>\n",
              "      <td>0.0</td>\n",
              "    </tr>\n",
              "    <tr>\n",
              "      <th>1</th>\n",
              "      <td>0.0</td>\n",
              "      <td>1.0</td>\n",
              "      <td>0.0</td>\n",
              "      <td>0.0</td>\n",
              "      <td>0.0</td>\n",
              "      <td>1.0</td>\n",
              "      <td>1.0</td>\n",
              "      <td>0.0</td>\n",
              "      <td>0.0</td>\n",
              "      <td>0.0</td>\n",
              "      <td>1.0</td>\n",
              "      <td>0.0</td>\n",
              "      <td>1.0</td>\n",
              "      <td>0.0</td>\n",
              "      <td>1.0</td>\n",
              "      <td>0.0</td>\n",
              "      <td>0.0</td>\n",
              "      <td>0.0</td>\n",
              "      <td>0.0</td>\n",
              "      <td>1.0</td>\n",
              "      <td>0.0</td>\n",
              "      <td>1.0</td>\n",
              "      <td>0.0</td>\n",
              "      <td>0.0</td>\n",
              "      <td>0.0</td>\n",
              "    </tr>\n",
              "    <tr>\n",
              "      <th>2</th>\n",
              "      <td>0.0</td>\n",
              "      <td>1.0</td>\n",
              "      <td>0.0</td>\n",
              "      <td>0.0</td>\n",
              "      <td>0.0</td>\n",
              "      <td>1.0</td>\n",
              "      <td>1.0</td>\n",
              "      <td>0.0</td>\n",
              "      <td>0.0</td>\n",
              "      <td>0.0</td>\n",
              "      <td>1.0</td>\n",
              "      <td>0.0</td>\n",
              "      <td>1.0</td>\n",
              "      <td>0.0</td>\n",
              "      <td>1.0</td>\n",
              "      <td>0.0</td>\n",
              "      <td>0.0</td>\n",
              "      <td>0.0</td>\n",
              "      <td>1.0</td>\n",
              "      <td>0.0</td>\n",
              "      <td>0.0</td>\n",
              "      <td>0.0</td>\n",
              "      <td>0.0</td>\n",
              "      <td>1.0</td>\n",
              "      <td>0.0</td>\n",
              "    </tr>\n",
              "    <tr>\n",
              "      <th>3</th>\n",
              "      <td>0.0</td>\n",
              "      <td>1.0</td>\n",
              "      <td>0.0</td>\n",
              "      <td>0.0</td>\n",
              "      <td>1.0</td>\n",
              "      <td>0.0</td>\n",
              "      <td>1.0</td>\n",
              "      <td>0.0</td>\n",
              "      <td>1.0</td>\n",
              "      <td>0.0</td>\n",
              "      <td>0.0</td>\n",
              "      <td>1.0</td>\n",
              "      <td>0.0</td>\n",
              "      <td>0.0</td>\n",
              "      <td>0.0</td>\n",
              "      <td>1.0</td>\n",
              "      <td>1.0</td>\n",
              "      <td>0.0</td>\n",
              "      <td>0.0</td>\n",
              "      <td>0.0</td>\n",
              "      <td>0.0</td>\n",
              "      <td>1.0</td>\n",
              "      <td>0.0</td>\n",
              "      <td>0.0</td>\n",
              "      <td>0.0</td>\n",
              "    </tr>\n",
              "    <tr>\n",
              "      <th>4</th>\n",
              "      <td>1.0</td>\n",
              "      <td>0.0</td>\n",
              "      <td>0.0</td>\n",
              "      <td>1.0</td>\n",
              "      <td>0.0</td>\n",
              "      <td>0.0</td>\n",
              "      <td>1.0</td>\n",
              "      <td>0.0</td>\n",
              "      <td>0.0</td>\n",
              "      <td>0.0</td>\n",
              "      <td>1.0</td>\n",
              "      <td>1.0</td>\n",
              "      <td>0.0</td>\n",
              "      <td>1.0</td>\n",
              "      <td>0.0</td>\n",
              "      <td>0.0</td>\n",
              "      <td>1.0</td>\n",
              "      <td>0.0</td>\n",
              "      <td>0.0</td>\n",
              "      <td>0.0</td>\n",
              "      <td>0.0</td>\n",
              "      <td>1.0</td>\n",
              "      <td>0.0</td>\n",
              "      <td>0.0</td>\n",
              "      <td>0.0</td>\n",
              "    </tr>\n",
              "  </tbody>\n",
              "</table>\n",
              "</div>"
            ],
            "text/plain": [
              "   Sex_one_hot_encoder_0  ...  Thalessemia_one_hot_encoder_3\n",
              "0                    0.0  ...                            0.0\n",
              "1                    0.0  ...                            0.0\n",
              "2                    0.0  ...                            0.0\n",
              "3                    0.0  ...                            0.0\n",
              "4                    1.0  ...                            0.0\n",
              "\n",
              "[5 rows x 25 columns]"
            ]
          },
          "metadata": {
            "tags": []
          },
          "execution_count": 23
        }
      ]
    },
    {
      "cell_type": "code",
      "metadata": {
        "colab": {
          "base_uri": "https://localhost:8080/",
          "height": 243
        },
        "id": "2AECGqTgl-fZ",
        "outputId": "9683a100-4016-41eb-9c0b-77f50de384c9"
      },
      "source": [
        "## Add the remaning columns (non one-hot)\n",
        "strClasses1 = input_cols_others\n",
        "for i in strClasses1:\n",
        "\n",
        "  ## get Column ##\n",
        "  x_post[i] = df[i].copy()\n",
        "\n",
        "x_post.head() # <-- final input dataset"
      ],
      "execution_count": null,
      "outputs": [
        {
          "output_type": "execute_result",
          "data": {
            "text/html": [
              "<div>\n",
              "<style scoped>\n",
              "    .dataframe tbody tr th:only-of-type {\n",
              "        vertical-align: middle;\n",
              "    }\n",
              "\n",
              "    .dataframe tbody tr th {\n",
              "        vertical-align: top;\n",
              "    }\n",
              "\n",
              "    .dataframe thead th {\n",
              "        text-align: right;\n",
              "    }\n",
              "</style>\n",
              "<table border=\"1\" class=\"dataframe\">\n",
              "  <thead>\n",
              "    <tr style=\"text-align: right;\">\n",
              "      <th></th>\n",
              "      <th>Sex_one_hot_encoder_0</th>\n",
              "      <th>Sex_one_hot_encoder_1</th>\n",
              "      <th>Chest_Pain_one_hot_encoder_0</th>\n",
              "      <th>Chest_Pain_one_hot_encoder_1</th>\n",
              "      <th>Chest_Pain_one_hot_encoder_2</th>\n",
              "      <th>Chest_Pain_one_hot_encoder_3</th>\n",
              "      <th>Fasting_Blood_Sugar_one_hot_encoder_0</th>\n",
              "      <th>Fasting_Blood_Sugar_one_hot_encoder_1</th>\n",
              "      <th>Rest_ECG_one_hot_encoder_0</th>\n",
              "      <th>Rest_ECG_one_hot_encoder_1</th>\n",
              "      <th>Rest_ECG_one_hot_encoder_2</th>\n",
              "      <th>Exercised_Induced_Angina_one_hot_encoder_0</th>\n",
              "      <th>Exercised_Induced_Angina_one_hot_encoder_1</th>\n",
              "      <th>Slope_one_hot_encoder_0</th>\n",
              "      <th>Slope_one_hot_encoder_1</th>\n",
              "      <th>Slope_one_hot_encoder_2</th>\n",
              "      <th>Major_Vessels_one_hot_encoder_0</th>\n",
              "      <th>Major_Vessels_one_hot_encoder_1</th>\n",
              "      <th>Major_Vessels_one_hot_encoder_2</th>\n",
              "      <th>Major_Vessels_one_hot_encoder_3</th>\n",
              "      <th>Major_Vessels_one_hot_encoder_4</th>\n",
              "      <th>Thalessemia_one_hot_encoder_0</th>\n",
              "      <th>Thalessemia_one_hot_encoder_1</th>\n",
              "      <th>Thalessemia_one_hot_encoder_2</th>\n",
              "      <th>Thalessemia_one_hot_encoder_3</th>\n",
              "      <th>Unnamed: 0</th>\n",
              "      <th>Age</th>\n",
              "      <th>Resting_Blood_Pressure</th>\n",
              "      <th>Colestrol</th>\n",
              "      <th>MAX_Heart_Rate</th>\n",
              "      <th>ST_Depression</th>\n",
              "    </tr>\n",
              "  </thead>\n",
              "  <tbody>\n",
              "    <tr>\n",
              "      <th>0</th>\n",
              "      <td>0.0</td>\n",
              "      <td>1.0</td>\n",
              "      <td>1.0</td>\n",
              "      <td>0.0</td>\n",
              "      <td>0.0</td>\n",
              "      <td>0.0</td>\n",
              "      <td>0.0</td>\n",
              "      <td>1.0</td>\n",
              "      <td>0.0</td>\n",
              "      <td>0.0</td>\n",
              "      <td>1.0</td>\n",
              "      <td>1.0</td>\n",
              "      <td>0.0</td>\n",
              "      <td>0.0</td>\n",
              "      <td>0.0</td>\n",
              "      <td>1.0</td>\n",
              "      <td>1.0</td>\n",
              "      <td>0.0</td>\n",
              "      <td>0.0</td>\n",
              "      <td>0.0</td>\n",
              "      <td>0.0</td>\n",
              "      <td>0.0</td>\n",
              "      <td>1.0</td>\n",
              "      <td>0.0</td>\n",
              "      <td>0.0</td>\n",
              "      <td>0</td>\n",
              "      <td>63</td>\n",
              "      <td>145</td>\n",
              "      <td>233</td>\n",
              "      <td>150</td>\n",
              "      <td>2.3</td>\n",
              "    </tr>\n",
              "    <tr>\n",
              "      <th>1</th>\n",
              "      <td>0.0</td>\n",
              "      <td>1.0</td>\n",
              "      <td>0.0</td>\n",
              "      <td>0.0</td>\n",
              "      <td>0.0</td>\n",
              "      <td>1.0</td>\n",
              "      <td>1.0</td>\n",
              "      <td>0.0</td>\n",
              "      <td>0.0</td>\n",
              "      <td>0.0</td>\n",
              "      <td>1.0</td>\n",
              "      <td>0.0</td>\n",
              "      <td>1.0</td>\n",
              "      <td>0.0</td>\n",
              "      <td>1.0</td>\n",
              "      <td>0.0</td>\n",
              "      <td>0.0</td>\n",
              "      <td>0.0</td>\n",
              "      <td>0.0</td>\n",
              "      <td>1.0</td>\n",
              "      <td>0.0</td>\n",
              "      <td>1.0</td>\n",
              "      <td>0.0</td>\n",
              "      <td>0.0</td>\n",
              "      <td>0.0</td>\n",
              "      <td>1</td>\n",
              "      <td>67</td>\n",
              "      <td>160</td>\n",
              "      <td>286</td>\n",
              "      <td>108</td>\n",
              "      <td>1.5</td>\n",
              "    </tr>\n",
              "    <tr>\n",
              "      <th>2</th>\n",
              "      <td>0.0</td>\n",
              "      <td>1.0</td>\n",
              "      <td>0.0</td>\n",
              "      <td>0.0</td>\n",
              "      <td>0.0</td>\n",
              "      <td>1.0</td>\n",
              "      <td>1.0</td>\n",
              "      <td>0.0</td>\n",
              "      <td>0.0</td>\n",
              "      <td>0.0</td>\n",
              "      <td>1.0</td>\n",
              "      <td>0.0</td>\n",
              "      <td>1.0</td>\n",
              "      <td>0.0</td>\n",
              "      <td>1.0</td>\n",
              "      <td>0.0</td>\n",
              "      <td>0.0</td>\n",
              "      <td>0.0</td>\n",
              "      <td>1.0</td>\n",
              "      <td>0.0</td>\n",
              "      <td>0.0</td>\n",
              "      <td>0.0</td>\n",
              "      <td>0.0</td>\n",
              "      <td>1.0</td>\n",
              "      <td>0.0</td>\n",
              "      <td>2</td>\n",
              "      <td>67</td>\n",
              "      <td>120</td>\n",
              "      <td>229</td>\n",
              "      <td>129</td>\n",
              "      <td>2.6</td>\n",
              "    </tr>\n",
              "    <tr>\n",
              "      <th>3</th>\n",
              "      <td>0.0</td>\n",
              "      <td>1.0</td>\n",
              "      <td>0.0</td>\n",
              "      <td>0.0</td>\n",
              "      <td>1.0</td>\n",
              "      <td>0.0</td>\n",
              "      <td>1.0</td>\n",
              "      <td>0.0</td>\n",
              "      <td>1.0</td>\n",
              "      <td>0.0</td>\n",
              "      <td>0.0</td>\n",
              "      <td>1.0</td>\n",
              "      <td>0.0</td>\n",
              "      <td>0.0</td>\n",
              "      <td>0.0</td>\n",
              "      <td>1.0</td>\n",
              "      <td>1.0</td>\n",
              "      <td>0.0</td>\n",
              "      <td>0.0</td>\n",
              "      <td>0.0</td>\n",
              "      <td>0.0</td>\n",
              "      <td>1.0</td>\n",
              "      <td>0.0</td>\n",
              "      <td>0.0</td>\n",
              "      <td>0.0</td>\n",
              "      <td>3</td>\n",
              "      <td>37</td>\n",
              "      <td>130</td>\n",
              "      <td>250</td>\n",
              "      <td>187</td>\n",
              "      <td>3.5</td>\n",
              "    </tr>\n",
              "    <tr>\n",
              "      <th>4</th>\n",
              "      <td>1.0</td>\n",
              "      <td>0.0</td>\n",
              "      <td>0.0</td>\n",
              "      <td>1.0</td>\n",
              "      <td>0.0</td>\n",
              "      <td>0.0</td>\n",
              "      <td>1.0</td>\n",
              "      <td>0.0</td>\n",
              "      <td>0.0</td>\n",
              "      <td>0.0</td>\n",
              "      <td>1.0</td>\n",
              "      <td>1.0</td>\n",
              "      <td>0.0</td>\n",
              "      <td>1.0</td>\n",
              "      <td>0.0</td>\n",
              "      <td>0.0</td>\n",
              "      <td>1.0</td>\n",
              "      <td>0.0</td>\n",
              "      <td>0.0</td>\n",
              "      <td>0.0</td>\n",
              "      <td>0.0</td>\n",
              "      <td>1.0</td>\n",
              "      <td>0.0</td>\n",
              "      <td>0.0</td>\n",
              "      <td>0.0</td>\n",
              "      <td>4</td>\n",
              "      <td>41</td>\n",
              "      <td>130</td>\n",
              "      <td>204</td>\n",
              "      <td>172</td>\n",
              "      <td>1.4</td>\n",
              "    </tr>\n",
              "  </tbody>\n",
              "</table>\n",
              "</div>"
            ],
            "text/plain": [
              "   Sex_one_hot_encoder_0  Sex_one_hot_encoder_1  ...  MAX_Heart_Rate  ST_Depression\n",
              "0                    0.0                    1.0  ...             150            2.3\n",
              "1                    0.0                    1.0  ...             108            1.5\n",
              "2                    0.0                    1.0  ...             129            2.6\n",
              "3                    0.0                    1.0  ...             187            3.5\n",
              "4                    1.0                    0.0  ...             172            1.4\n",
              "\n",
              "[5 rows x 31 columns]"
            ]
          },
          "metadata": {
            "tags": []
          },
          "execution_count": 24
        }
      ]
    },
    {
      "cell_type": "code",
      "metadata": {
        "colab": {
          "base_uri": "https://localhost:8080/"
        },
        "id": "xG9FOyNmmXo7",
        "outputId": "8be97e2c-2c36-4054-a03d-ad583f5eb696"
      },
      "source": [
        "# Logistic Regression for all variables model\n",
        "clf_allVars=LogisticRegression().fit(x_post,target_binarized_chol)\n",
        "y_predictions_allfactor=clf_allVars.predict(x_post)\n",
        "\n"
      ],
      "execution_count": null,
      "outputs": [
        {
          "output_type": "stream",
          "text": [
            "/usr/local/lib/python3.7/dist-packages/sklearn/utils/validation.py:760: DataConversionWarning: A column-vector y was passed when a 1d array was expected. Please change the shape of y to (n_samples, ), for example using ravel().\n",
            "  y = column_or_1d(y, warn=True)\n",
            "/usr/local/lib/python3.7/dist-packages/sklearn/linear_model/_logistic.py:940: ConvergenceWarning: lbfgs failed to converge (status=1):\n",
            "STOP: TOTAL NO. of ITERATIONS REACHED LIMIT.\n",
            "\n",
            "Increase the number of iterations (max_iter) or scale the data as shown in:\n",
            "    https://scikit-learn.org/stable/modules/preprocessing.html\n",
            "Please also refer to the documentation for alternative solver options:\n",
            "    https://scikit-learn.org/stable/modules/linear_model.html#logistic-regression\n",
            "  extra_warning_msg=_LOGISTIC_SOLVER_CONVERGENCE_MSG)\n"
          ],
          "name": "stderr"
        }
      ]
    },
    {
      "cell_type": "code",
      "metadata": {
        "colab": {
          "base_uri": "https://localhost:8080/"
        },
        "id": "s5HXqxkHoh2l",
        "outputId": "515fc39d-c45c-47c6-fe1c-4c20ab7c1535"
      },
      "source": [
        "# matthew's correlation coefficient (all variables)\n",
        "print(\"Matthew's coefficient (all vars) is: \", matthews_corrcoef(target_binarized_chol,y_predictions_allfactor))\n",
        "\n",
        "\n",
        "print(\"\\nAUROC (true vs. probability is) : \",roc_auc_score(target_binarized_chol,clf_allVars.predict_proba(x_post)[:,1]))\n",
        "#same as decision_function\n",
        "#print(\"\\nAUROC (true vs. confidence score) is: \", roc_auc_score(target_binarized_chol,clf_allVars.decision_function(x_post)))"
      ],
      "execution_count": null,
      "outputs": [
        {
          "output_type": "stream",
          "text": [
            "Matthew's coefficient (all vars) is:  0.7474094292820868\n",
            "\n",
            "AUROC (true vs. probability is) :  0.9373574311282681\n"
          ],
          "name": "stdout"
        }
      ]
    },
    {
      "cell_type": "code",
      "metadata": {
        "colab": {
          "base_uri": "https://localhost:8080/"
        },
        "id": "phfKAXVWp9BJ",
        "outputId": "35a3da9f-8ce5-4324-a92a-ecdca2ce60e4"
      },
      "source": [
        "# accuracy & f1-score manually:\n",
        "\n",
        "#accuracy\n",
        "print(\"accuracy: \",accuracy_score(target_binarized_chol,y_predictions_allfactor))\n",
        "\n",
        "#f1 scores\n",
        "print(\"f1 score (macro): \",f1_score(target_binarized_chol,y_predictions_allfactor,average='macro'))\n",
        "print(\"f1 score (weighted): \",f1_score(target_binarized_chol,y_predictions_allfactor,average='weighted'))"
      ],
      "execution_count": null,
      "outputs": [
        {
          "output_type": "stream",
          "text": [
            "accuracy:  0.8745874587458746\n",
            "f1 score (macro):  0.8730820105820106\n",
            "f1 score (weighted):  0.874222501615241\n"
          ],
          "name": "stdout"
        }
      ]
    },
    {
      "cell_type": "code",
      "metadata": {
        "colab": {
          "base_uri": "https://localhost:8080/",
          "height": 358
        },
        "id": "2s0I-1cLqSfp",
        "outputId": "d6f0d2c7-e363-4748-bd57-80780319846e"
      },
      "source": [
        "# generate the receiver-operating curve for multi-var model\n",
        "metrics.plot_roc_curve(clf_allVars, x_post, target_binarized_chol,color='green')  \n",
        "plt.title('ROC Curve \\nfor Multi-Variable Model',fontsize=20)\n",
        "plt.xlabel('\\nFalse Positive Rate\\n(Positive label=1)',fontsize=13)  \n",
        "plt.ylabel('\\nTrue Positive Rate\\n(Positive label=1)',fontsize=13)\n",
        "plt.plot([0, 1], [0, 1], linestyle='--', lw=1, color='red', label='Random')\n",
        "plt.show()\n"
      ],
      "execution_count": null,
      "outputs": [
        {
          "output_type": "display_data",
          "data": {
            "image/png": "[encoded data removed]",
            "text/plain": [
              "<Figure size 432x288 with 1 Axes>"
            ]
          },
          "metadata": {
            "tags": []
          }
        }
      ]
    },
    {
      "cell_type": "code",
      "metadata": {
        "colab": {
          "base_uri": "https://localhost:8080/"
        },
        "id": "eLy0B39yqYUD",
        "outputId": "c597fdbf-391c-4b42-fb1d-ff2c197540e2"
      },
      "source": [
        "# manually calculate sensitivity & specificity (all-vars model)\n",
        "\n",
        "true_y_list=[] #hold the true 0 or 1\n",
        "pred_y_list=[] #hold the predicted 0 or 1\n",
        "\n",
        "true_positives=0\n",
        "false_positives=0\n",
        "false_negatives=0\n",
        "true_negatives=0\n",
        "\n",
        "y_predictions_allfactor=y_predictions_allfactor.reshape(-1,1)\n",
        "\n",
        "\n",
        "for i in y_vals:\n",
        "  if i==0:\n",
        "    true_y_list.append(0)\n",
        "  else:\n",
        "    true_y_list.append(1)\n",
        "\n",
        "for i in y_predictions_allfactor:\n",
        "  if i==0:\n",
        "    pred_y_list.append(0)\n",
        "  else:\n",
        "    pred_y_list.append(1)\n",
        "\n",
        "for index in range(len(pred_y_list)):\n",
        "  if true_y_list[index]==1 and pred_y_list[index]==1:\n",
        "    # true positive (both true and predicted are 1)\n",
        "    true_positives +=1\n",
        "  elif true_y_list[index]==0 and pred_y_list[index]==1:\n",
        "    # false positive (true is 0 but pred is 1)\n",
        "    false_positives +=1\n",
        "  elif true_y_list[index]==1 and pred_y_list[index]==0:\n",
        "    # false negative (true is 1 but pred is 0)\n",
        "    false_negatives +=1\n",
        "  elif true_y_list[index]==0 and pred_y_list[index]==0:\n",
        "    # true negative (both true and pred are 0)\n",
        "    true_negatives +=1\n",
        "\n",
        "print(\"total values:\",len(true_y_list),'\\n')\n",
        "print('true positives:',true_positives)\n",
        "print('false positives:',false_positives)\n",
        "print('false negatives:',false_negatives)\n",
        "print('true negatives:',true_negatives)\n"
      ],
      "execution_count": null,
      "outputs": [
        {
          "output_type": "stream",
          "text": [
            "total values: 303 \n",
            "\n",
            "true positives: 116\n",
            "false positives: 15\n",
            "false negatives: 23\n",
            "true negatives: 149\n"
          ],
          "name": "stdout"
        }
      ]
    },
    {
      "cell_type": "markdown",
      "metadata": {
        "id": "mKUIDzjrh6Qb"
      },
      "source": [
        "##Dataset Descriptions (for slides)\n"
      ]
    },
    {
      "cell_type": "code",
      "metadata": {
        "colab": {
          "base_uri": "https://localhost:8080/"
        },
        "id": "wZ4_FqxbhmW6",
        "outputId": "60c9eafd-b771-42fb-87e7-34a67de9a4c9"
      },
      "source": [
        "# Heart Disease (0 vs. 1-4)\n",
        "heart_disease=df['Target']\n",
        "zero_count=0\n",
        "one_count=0\n",
        "\n",
        "for i in  heart_disease:\n",
        "  if i=='?':\n",
        "    pass\n",
        "  elif i==0:\n",
        "   zero_count +=1\n",
        "  else:\n",
        "    one_count +=1\n",
        "\n",
        "print(\"Patients with no disease:\",zero_count)\n",
        "print(\"Patients with heart disease:\",one_count)"
      ],
      "execution_count": null,
      "outputs": [
        {
          "output_type": "stream",
          "text": [
            "Patients with no disease: 164\n",
            "Patients with heart disease: 139\n"
          ],
          "name": "stdout"
        }
      ]
    },
    {
      "cell_type": "code",
      "metadata": {
        "colab": {
          "base_uri": "https://localhost:8080/"
        },
        "id": "vuvVJZsEiyTn",
        "outputId": "be95e0f8-68cd-4e25-f674-1c3c7d343a36"
      },
      "source": [
        "# Age (over 65 vs. 65 and under)\n",
        "\n",
        "age=df['Age']\n",
        "over_count=0\n",
        "under_count=0\n",
        "\n",
        "for i in age:\n",
        "  if i=='?':\n",
        "    pass\n",
        "  elif i>65:\n",
        "   over_count +=1\n",
        "  else:\n",
        "    under_count +=1\n",
        "\n",
        "print(\"Patients over 65:\",over_count)\n",
        "print(\"Patients 65 and under:\",under_count)\n",
        "print(\"_______________________________\\n\")\n",
        "print(age.describe())"
      ],
      "execution_count": null,
      "outputs": [
        {
          "output_type": "stream",
          "text": [
            "Patients over 65: 33\n",
            "Patients 65 and under: 270\n",
            "_______________________________\n",
            "\n",
            "count    303.000000\n",
            "mean      54.438944\n",
            "std        9.038662\n",
            "min       29.000000\n",
            "25%       48.000000\n",
            "50%       56.000000\n",
            "75%       61.000000\n",
            "max       77.000000\n",
            "Name: Age, dtype: float64\n"
          ],
          "name": "stdout"
        }
      ]
    },
    {
      "cell_type": "code",
      "metadata": {
        "colab": {
          "base_uri": "https://localhost:8080/"
        },
        "id": "cG4EVo1YjdSe",
        "outputId": "d0f7669c-f09a-4835-fa03-db46b06ed789"
      },
      "source": [
        "# Chest Pain (1 vs. 2-4)\n",
        "# kaggle says: chest pain type?? no idea what it mean\n",
        "\n",
        "chestPain=df['Chest_Pain']\n",
        "no_pain=0\n",
        "yes_pain=0\n",
        "\n",
        "for i in chestPain:\n",
        "  if i=='?':\n",
        "    pass\n",
        "  elif i==1:\n",
        "   no_pain +=1\n",
        "  else:\n",
        "    yes_pain +=1\n",
        "\n",
        "print(\"Patients with no chest pain:\",no_pain)\n",
        "print(\"Patients with chest pain:\",yes_pain)\n",
        "print(\"_______________________________\\n\")\n",
        "print(chestPain.describe())\n"
      ],
      "execution_count": null,
      "outputs": [
        {
          "output_type": "stream",
          "text": [
            "Patients with no chest pain: 23\n",
            "Patients with chest pain: 280\n",
            "_______________________________\n",
            "\n",
            "count    303.000000\n",
            "mean       3.158416\n",
            "std        0.960126\n",
            "min        1.000000\n",
            "25%        3.000000\n",
            "50%        3.000000\n",
            "75%        4.000000\n",
            "max        4.000000\n",
            "Name: Chest_Pain, dtype: float64\n"
          ],
          "name": "stdout"
        }
      ]
    },
    {
      "cell_type": "code",
      "metadata": {
        "colab": {
          "base_uri": "https://localhost:8080/"
        },
        "id": "DcasBLvvkBTj",
        "outputId": "2a0a26a0-2d72-4853-afbb-12e2d01aa45d"
      },
      "source": [
        "# Gender (male (1) vs. female (0) )\n",
        "# ^^ Kaggle says that male is 1, female is 0\n",
        "gender=df['Sex']\n",
        "female=0\n",
        "male=0\n",
        "\n",
        "for i in gender:\n",
        "  if i=='?':\n",
        "    pass\n",
        "  elif i==0:\n",
        "   female +=1\n",
        "  else:\n",
        "    male +=1\n",
        "\n",
        "print(\"Females:\",female)\n",
        "print(\"Males:\",male)\n",
        "print(\"_______________________________\\n\")\n",
        "print(gender.describe())"
      ],
      "execution_count": null,
      "outputs": [
        {
          "output_type": "stream",
          "text": [
            "Females: 97\n",
            "Males: 206\n",
            "_______________________________\n",
            "\n",
            "count    303.000000\n",
            "mean       0.679868\n",
            "std        0.467299\n",
            "min        0.000000\n",
            "25%        0.000000\n",
            "50%        1.000000\n",
            "75%        1.000000\n",
            "max        1.000000\n",
            "Name: Sex, dtype: float64\n"
          ],
          "name": "stdout"
        }
      ]
    },
    {
      "cell_type": "code",
      "metadata": {
        "colab": {
          "base_uri": "https://localhost:8080/"
        },
        "id": "1H9iNd5uk-RA",
        "outputId": "b6d27f5a-ba08-4b3b-de66-4890f95cdd42"
      },
      "source": [
        "# Fasting blood sugar\n",
        "# ^^ Kaggle says: fasting blood sugar &gt; 120 mg/dl (1 = true; 0 = false)\n",
        "# I think this means 1=\"over 120\", 0=\"under 120\" ???? (talk with Felipe/Wenqi)\n",
        "\n",
        "fbs=df['Fasting_Blood_Sugar']\n",
        "fbs_zero=0\n",
        "fbs_one=0\n",
        "\n",
        "for i in fbs:\n",
        "  if i=='?':\n",
        "    pass\n",
        "  elif i==0:\n",
        "    fbs_zero +=1\n",
        "  else:\n",
        "    fbs_one +=1\n",
        "\n",
        "print('Fasting blood sugar (0): ',fbs_zero)\n",
        "print('Fasting blood sugar (1): ',fbs_one)\n",
        "print(\"_______________________________\\n\")\n",
        "print(fbs.describe())"
      ],
      "execution_count": null,
      "outputs": [
        {
          "output_type": "stream",
          "text": [
            "Fasting blood sugar (0):  258\n",
            "Fasting blood sugar (1):  45\n",
            "_______________________________\n",
            "\n",
            "count    303.000000\n",
            "mean       0.148515\n",
            "std        0.356198\n",
            "min        0.000000\n",
            "25%        0.000000\n",
            "50%        0.000000\n",
            "75%        0.000000\n",
            "max        1.000000\n",
            "Name: Fasting_Blood_Sugar, dtype: float64\n"
          ],
          "name": "stdout"
        }
      ]
    },
    {
      "cell_type": "markdown",
      "metadata": {
        "id": "b1MhwUqDmYrA"
      },
      "source": [
        "##Section for All Meeting Notes"
      ]
    },
    {
      "cell_type": "markdown",
      "metadata": {
        "id": "r0aWbrfLmYjK"
      },
      "source": [
        ""
      ]
    },
    {
      "cell_type": "code",
      "metadata": {
        "colab": {
          "base_uri": "https://localhost:8080/",
          "height": 139
        },
        "id": "ss3ojFu20E6r",
        "outputId": "818ebe9c-c03d-4b3a-af88-47be4b7f2ee6"
      },
      "source": [
        "# 7/16 Friday notes\n",
        "\n",
        "\"\"\"\n",
        "-calculate accuracy & f1-score seperately (manually)\n",
        "-generate Receiver operating curve for cholesterol results\n",
        "-add some slides about this heart Disease project to our current presentation (7/27)\n",
        "-make my own diagram of this (confusion matrix): https://www.researchgate.net/publication/340034692/figure/fig1/AS:870930318385152@1584657377357/Confusion-matrix-and-performance-equations-The-confusion-matrix-included-four.png\n",
        "-have our own data for confusion matrix (do manually)\n",
        "\n",
        "-calculate manually: sensitivity (true positive rate) & specificity (true negative rate)\n",
        "- on paper: write the 4 equations --> substitute in the numbers --> calculate sensitivity (true positive rate) & specificity (true negative rate)\n",
        "- put that on a slide\n",
        "- do long division manually\n",
        "\n",
        "-start incorporating more factors into the model\n",
        "- see how the models performance changes\n",
        "\n",
        "* Hypothesis: more features --> higher performance\n",
        "\"\"\"\n"
      ],
      "execution_count": null,
      "outputs": [
        {
          "output_type": "execute_result",
          "data": {
            "application/vnd.google.colaboratory.intrinsic+json": {
              "type": "string"
            },
            "text/plain": [
              "'\\n-calculate accuracy & f1-score seperately (manually)\\n-generate Receiver operating curve for cholesterol results\\n-add some slides about this heart Disease project to our current presentation (7/27)\\n-make my own diagram of this (confusion matrix): https://www.researchgate.net/publication/340034692/figure/fig1/AS:870930318385152@1584657377357/Confusion-matrix-and-performance-equations-The-confusion-matrix-included-four.png\\n-have our own data for confusion matrix (do manually)\\n\\n-calculate manually: sensitivity (true positive rate) & specificity (true negative rate)\\n- on paper: write the 4 equations --> substitute in the numbers --> calculate sensitivity (true positive rate) & specificity (true negative rate)\\n- put that on a slide\\n- do long division manually\\n\\n-start incorporating more factors into the model\\n- see how the models performance changes\\n\\n* Hypothesis: more features --> higher performance\\n'"
            ]
          },
          "metadata": {
            "tags": []
          },
          "execution_count": 35
        }
      ]
    },
    {
      "cell_type": "code",
      "metadata": {
        "id": "mmFTwUqn150j"
      },
      "source": [
        "# how to email Dr. Wang\n",
        "# MIBLab: [NAME-Highschool] Lab meeting absense"
      ],
      "execution_count": null,
      "outputs": []
    },
    {
      "cell_type": "code",
      "metadata": {
        "colab": {
          "base_uri": "https://localhost:8080/",
          "height": 105
        },
        "id": "hcnWXTRALfBi",
        "outputId": "00ebb4d3-7b70-4b69-cd70-87e55f052703"
      },
      "source": [
        "# 7/19 notes\n",
        "\n",
        "\"\"\"\n",
        "1) meet with Ryan & Collin sometime\n",
        "2) write the long divisions on clean paper, put as %\n",
        "3) for the Heart Disease slides: figure out who going to do what\n",
        "4) for \"results\" slide: ROC curve, Sensitivity & Specificity calculations\n",
        "  - in ROC plot, plot a diagonal line centered at Origin (area under curve = 0.54)\n",
        "\n",
        "5) calculate f1-score & accuracy by hand\n",
        "\n",
        "6) next Step: start incorporating more factors into the model\n",
        "    - see how the models performance changes\n",
        "7) start practicing to present our slides (presenting on 7/27)\n",
        "\n",
        "-Ryan is attending campus visits/soccer stuff this week\n",
        "\n",
        "\"\"\""
      ],
      "execution_count": null,
      "outputs": [
        {
          "output_type": "execute_result",
          "data": {
            "application/vnd.google.colaboratory.intrinsic+json": {
              "type": "string"
            },
            "text/plain": [
              "'\\n1) meet with Ryan & Collin sometime\\n2) write the long divisions on clean paper, put as %\\n3) for the Heart Disease slides: figure out who going to do what\\n4) for \"results\" slide: ROC curve, Sensitivity & Specificity calculations\\n  - in ROC plot, plot a diagonal line centered at Origin (area under curve = 0.54)\\n\\n5) calculate f1-score & accuracy by hand\\n\\n6) next Step: start incorporating more factors into the model\\n    - see how the models performance changes\\n7) start practicing to present our slides (presenting on 7/27)\\n\\n-Ryan is attending campus visits/soccer stuff this week\\n\\n'"
            ]
          },
          "metadata": {
            "tags": []
          },
          "execution_count": 37
        }
      ]
    },
    {
      "cell_type": "code",
      "metadata": {
        "colab": {
          "base_uri": "https://localhost:8080/",
          "height": 35
        },
        "id": "w7KB1YVypR_i",
        "outputId": "ac1f2081-d505-415d-a7e1-0e76031864ea"
      },
      "source": [
        "# 7/21 notes\n",
        "\n",
        "\"\"\"\n",
        "- fix up slides\n",
        "- start preparing to present\n",
        "- convention is ~1 minute per slide\n",
        "- next Wednesday we will go through it all\n",
        "\n",
        "\"\"\""
      ],
      "execution_count": null,
      "outputs": [
        {
          "output_type": "execute_result",
          "data": {
            "application/vnd.google.colaboratory.intrinsic+json": {
              "type": "string"
            },
            "text/plain": [
              "'\\n- fix up slides\\n- start preparing to present\\n- convention is ~1 minute per slide\\n- next Wednesday we will go through it all\\n\\n'"
            ]
          },
          "metadata": {
            "tags": []
          },
          "execution_count": 38
        }
      ]
    },
    {
      "cell_type": "code",
      "metadata": {
        "id": "Qi6dqMS-4ucP"
      },
      "source": [
        "# 7/23 notes\n",
        "\n",
        "\"\"\"\n",
        "- fix up slides (Collin & Ryan)\n",
        "- ask Ryan about his availability for next week\n",
        "- Dry run on Wednesday\n",
        "\"\"\""
      ],
      "execution_count": null,
      "outputs": []
    },
    {
      "cell_type": "code",
      "metadata": {
        "id": "x_2l1liFMrfo"
      },
      "source": [
        "# 7/26 notes\n",
        "\n",
        "\"\"\"\n",
        "- Presentation dry-run on Wednesday 7/28\n",
        "- let Collin know to do brief summary of Feature Engineering\n",
        "- let Ryan catch up on our progress to understand the project\n",
        "\"\"\""
      ],
      "execution_count": null,
      "outputs": []
    },
    {
      "cell_type": "code",
      "metadata": {
        "id": "mMuJCGlapM3s"
      },
      "source": [
        "# 7/28 notes\n",
        "\"\"\"\n",
        "- for each graph/figure: [null] hypothesis, approach, result\n",
        "\n",
        "\n",
        "\"\"\""
      ],
      "execution_count": null,
      "outputs": []
    },
    {
      "cell_type": "code",
      "metadata": {
        "id": "YtiMw8_M92gj"
      },
      "source": [
        "# 7/30 notes\n",
        "\"\"\"\n",
        "-Ryan: get more familiar with his material\n",
        "-Ryan: let me know when to continue by saying \"next\" or something\n",
        "-Ryan: try not to directly read the slide content; add your own details/explanations\n",
        "-Collin: make changes for some of your slides\n",
        "-Everyone: familiarize our parts, practice ourselves\n",
        "-Everyone: introduce ourselves in the beginning of project \n",
        "\n",
        "-Larry & Collin: at the \"Discussion\" slide, restate problem statement & results\n",
        "-Collin change your Discussion slide for your side project\n",
        "\n",
        "-Everyone: meet this weekend or Monday to dry-run ourselves\n",
        "\"\"\""
      ],
      "execution_count": null,
      "outputs": []
    },
    {
      "cell_type": "code",
      "metadata": {
        "id": "lVt47dceaTXF"
      },
      "source": [
        "# 8/3 notes\n",
        "\n",
        "\"\"\"\n",
        "-all: let Larry know when to go to next slide\n",
        "-Collin & Larry: coordinate slide 26\n",
        "\n",
        "-skip Wednesday meeting (8/4)\n",
        "-meet Friday? ask collin if he can come Fridays\n",
        "\"\"\""
      ],
      "execution_count": null,
      "outputs": []
    },
    {
      "cell_type": "code",
      "metadata": {
        "id": "Pau-mv5rORM6"
      },
      "source": [
        "# Collin can come on Tuesdays, Wednesdays, Thursdays"
      ],
      "execution_count": null,
      "outputs": []
    }
  ]
}