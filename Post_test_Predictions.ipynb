{
  "nbformat": 4,
  "nbformat_minor": 0,
  "metadata": {
    "colab": {
      "name": "Post-test Predictions.ipynb",
      "provenance": [],
      "include_colab_link": true
    },
    "kernelspec": {
      "name": "python3",
      "display_name": "Python 3"
    },
    "language_info": {
      "name": "python"
    }
  },
  "cells": [
    {
      "cell_type": "markdown",
      "metadata": {
        "id": "view-in-github",
        "colab_type": "text"
      },
      "source": [
        "<a href=\"https://colab.research.google.com/github/LarryB38/GIT-Research/blob/Test-Score-Predictions/Post_test_Predictions.ipynb\" target=\"_parent\"><img src=\"https://colab.research.google.com/assets/colab-badge.svg\" alt=\"Open In Colab\"/></a>"
      ]
    },
    {
      "cell_type": "markdown",
      "metadata": {
        "id": "zcFNj3Ql9Y-A"
      },
      "source": [
        "##Import Libraries\n"
      ]
    },
    {
      "cell_type": "code",
      "metadata": {
        "colab": {
          "base_uri": "https://localhost:8080/"
        },
        "id": "iRlAyd3OuhvU",
        "outputId": "9d9fd546-6bfa-46fe-faf3-8a106172a6b5"
      },
      "source": [
        "#import libraries\n",
        "import pandas as pd\n",
        "import numpy as np\n",
        "import matplotlib.pyplot as plt\n",
        "import statsmodels.api as sm\n",
        "import seaborn as sns\n",
        "from sklearn.linear_model import LinearRegression\n",
        "from statistics import mean\n",
        "from statistics import stdev\n",
        "from sklearn.metrics import r2_score \n",
        "from google.colab import drive\n",
        "drive.mount('/content/drive')\n"
      ],
      "execution_count": null,
      "outputs": [
        {
          "output_type": "stream",
          "text": [
            "/usr/local/lib/python3.7/dist-packages/statsmodels/tools/_testing.py:19: FutureWarning: pandas.util.testing is deprecated. Use the functions in the public API at pandas.testing instead.\n",
            "  import pandas.util.testing as tm\n"
          ],
          "name": "stderr"
        },
        {
          "output_type": "stream",
          "text": [
            "Mounted at /content/drive\n"
          ],
          "name": "stdout"
        }
      ]
    },
    {
      "cell_type": "markdown",
      "metadata": {
        "id": "8LsT4Fy69fB8"
      },
      "source": [
        "##Load CSV File\n"
      ]
    },
    {
      "cell_type": "code",
      "metadata": {
        "colab": {
          "base_uri": "https://localhost:8080/",
          "height": 206
        },
        "id": "vA2bGVaOu2tv",
        "outputId": "45a42038-00f3-4869-e904-cd15654d9563"
      },
      "source": [
        "#load CSV\n",
        "df=pd.read_csv('/content/drive/My Drive/test_scores.csv')\n",
        "x_input=df.copy()\n",
        "x_input.pop('student_id')\n",
        "\n",
        "y_vals=x_input.pop('posttest')\n",
        "x_input.head()"
      ],
      "execution_count": null,
      "outputs": [
        {
          "output_type": "execute_result",
          "data": {
            "text/html": [
              "<div>\n",
              "<style scoped>\n",
              "    .dataframe tbody tr th:only-of-type {\n",
              "        vertical-align: middle;\n",
              "    }\n",
              "\n",
              "    .dataframe tbody tr th {\n",
              "        vertical-align: top;\n",
              "    }\n",
              "\n",
              "    .dataframe thead th {\n",
              "        text-align: right;\n",
              "    }\n",
              "</style>\n",
              "<table border=\"1\" class=\"dataframe\">\n",
              "  <thead>\n",
              "    <tr style=\"text-align: right;\">\n",
              "      <th></th>\n",
              "      <th>school</th>\n",
              "      <th>school_setting</th>\n",
              "      <th>school_type</th>\n",
              "      <th>classroom</th>\n",
              "      <th>teaching_method</th>\n",
              "      <th>n_student</th>\n",
              "      <th>gender</th>\n",
              "      <th>lunch</th>\n",
              "      <th>pretest</th>\n",
              "    </tr>\n",
              "  </thead>\n",
              "  <tbody>\n",
              "    <tr>\n",
              "      <th>0</th>\n",
              "      <td>ANKYI</td>\n",
              "      <td>Urban</td>\n",
              "      <td>Non-public</td>\n",
              "      <td>6OL</td>\n",
              "      <td>Standard</td>\n",
              "      <td>20.0</td>\n",
              "      <td>Female</td>\n",
              "      <td>Does not qualify</td>\n",
              "      <td>62.0</td>\n",
              "    </tr>\n",
              "    <tr>\n",
              "      <th>1</th>\n",
              "      <td>ANKYI</td>\n",
              "      <td>Urban</td>\n",
              "      <td>Non-public</td>\n",
              "      <td>6OL</td>\n",
              "      <td>Standard</td>\n",
              "      <td>20.0</td>\n",
              "      <td>Female</td>\n",
              "      <td>Does not qualify</td>\n",
              "      <td>66.0</td>\n",
              "    </tr>\n",
              "    <tr>\n",
              "      <th>2</th>\n",
              "      <td>ANKYI</td>\n",
              "      <td>Urban</td>\n",
              "      <td>Non-public</td>\n",
              "      <td>6OL</td>\n",
              "      <td>Standard</td>\n",
              "      <td>20.0</td>\n",
              "      <td>Male</td>\n",
              "      <td>Does not qualify</td>\n",
              "      <td>64.0</td>\n",
              "    </tr>\n",
              "    <tr>\n",
              "      <th>3</th>\n",
              "      <td>ANKYI</td>\n",
              "      <td>Urban</td>\n",
              "      <td>Non-public</td>\n",
              "      <td>6OL</td>\n",
              "      <td>Standard</td>\n",
              "      <td>20.0</td>\n",
              "      <td>Female</td>\n",
              "      <td>Does not qualify</td>\n",
              "      <td>61.0</td>\n",
              "    </tr>\n",
              "    <tr>\n",
              "      <th>4</th>\n",
              "      <td>ANKYI</td>\n",
              "      <td>Urban</td>\n",
              "      <td>Non-public</td>\n",
              "      <td>6OL</td>\n",
              "      <td>Standard</td>\n",
              "      <td>20.0</td>\n",
              "      <td>Male</td>\n",
              "      <td>Does not qualify</td>\n",
              "      <td>64.0</td>\n",
              "    </tr>\n",
              "  </tbody>\n",
              "</table>\n",
              "</div>"
            ],
            "text/plain": [
              "  school school_setting school_type  ...  gender             lunch  pretest\n",
              "0  ANKYI          Urban  Non-public  ...  Female  Does not qualify     62.0\n",
              "1  ANKYI          Urban  Non-public  ...  Female  Does not qualify     66.0\n",
              "2  ANKYI          Urban  Non-public  ...    Male  Does not qualify     64.0\n",
              "3  ANKYI          Urban  Non-public  ...  Female  Does not qualify     61.0\n",
              "4  ANKYI          Urban  Non-public  ...    Male  Does not qualify     64.0\n",
              "\n",
              "[5 rows x 9 columns]"
            ]
          },
          "metadata": {
            "tags": []
          },
          "execution_count": 2
        }
      ]
    },
    {
      "cell_type": "code",
      "metadata": {
        "colab": {
          "base_uri": "https://localhost:8080/",
          "height": 206
        },
        "id": "pgZdBEnOvkXZ",
        "outputId": "f22a8113-d116-46a2-bce1-4be774116c8b"
      },
      "source": [
        "strClasses=['classroom']\n",
        "for i in strClasses:\n",
        "  x_input.pop(i)\n",
        "\n",
        "x_input.head()"
      ],
      "execution_count": null,
      "outputs": [
        {
          "output_type": "execute_result",
          "data": {
            "text/html": [
              "<div>\n",
              "<style scoped>\n",
              "    .dataframe tbody tr th:only-of-type {\n",
              "        vertical-align: middle;\n",
              "    }\n",
              "\n",
              "    .dataframe tbody tr th {\n",
              "        vertical-align: top;\n",
              "    }\n",
              "\n",
              "    .dataframe thead th {\n",
              "        text-align: right;\n",
              "    }\n",
              "</style>\n",
              "<table border=\"1\" class=\"dataframe\">\n",
              "  <thead>\n",
              "    <tr style=\"text-align: right;\">\n",
              "      <th></th>\n",
              "      <th>school</th>\n",
              "      <th>school_setting</th>\n",
              "      <th>school_type</th>\n",
              "      <th>teaching_method</th>\n",
              "      <th>n_student</th>\n",
              "      <th>gender</th>\n",
              "      <th>lunch</th>\n",
              "      <th>pretest</th>\n",
              "    </tr>\n",
              "  </thead>\n",
              "  <tbody>\n",
              "    <tr>\n",
              "      <th>0</th>\n",
              "      <td>ANKYI</td>\n",
              "      <td>Urban</td>\n",
              "      <td>Non-public</td>\n",
              "      <td>Standard</td>\n",
              "      <td>20.0</td>\n",
              "      <td>Female</td>\n",
              "      <td>Does not qualify</td>\n",
              "      <td>62.0</td>\n",
              "    </tr>\n",
              "    <tr>\n",
              "      <th>1</th>\n",
              "      <td>ANKYI</td>\n",
              "      <td>Urban</td>\n",
              "      <td>Non-public</td>\n",
              "      <td>Standard</td>\n",
              "      <td>20.0</td>\n",
              "      <td>Female</td>\n",
              "      <td>Does not qualify</td>\n",
              "      <td>66.0</td>\n",
              "    </tr>\n",
              "    <tr>\n",
              "      <th>2</th>\n",
              "      <td>ANKYI</td>\n",
              "      <td>Urban</td>\n",
              "      <td>Non-public</td>\n",
              "      <td>Standard</td>\n",
              "      <td>20.0</td>\n",
              "      <td>Male</td>\n",
              "      <td>Does not qualify</td>\n",
              "      <td>64.0</td>\n",
              "    </tr>\n",
              "    <tr>\n",
              "      <th>3</th>\n",
              "      <td>ANKYI</td>\n",
              "      <td>Urban</td>\n",
              "      <td>Non-public</td>\n",
              "      <td>Standard</td>\n",
              "      <td>20.0</td>\n",
              "      <td>Female</td>\n",
              "      <td>Does not qualify</td>\n",
              "      <td>61.0</td>\n",
              "    </tr>\n",
              "    <tr>\n",
              "      <th>4</th>\n",
              "      <td>ANKYI</td>\n",
              "      <td>Urban</td>\n",
              "      <td>Non-public</td>\n",
              "      <td>Standard</td>\n",
              "      <td>20.0</td>\n",
              "      <td>Male</td>\n",
              "      <td>Does not qualify</td>\n",
              "      <td>64.0</td>\n",
              "    </tr>\n",
              "  </tbody>\n",
              "</table>\n",
              "</div>"
            ],
            "text/plain": [
              "  school school_setting school_type  ...  gender             lunch pretest\n",
              "0  ANKYI          Urban  Non-public  ...  Female  Does not qualify    62.0\n",
              "1  ANKYI          Urban  Non-public  ...  Female  Does not qualify    66.0\n",
              "2  ANKYI          Urban  Non-public  ...    Male  Does not qualify    64.0\n",
              "3  ANKYI          Urban  Non-public  ...  Female  Does not qualify    61.0\n",
              "4  ANKYI          Urban  Non-public  ...    Male  Does not qualify    64.0\n",
              "\n",
              "[5 rows x 8 columns]"
            ]
          },
          "metadata": {
            "tags": []
          },
          "execution_count": 3
        }
      ]
    },
    {
      "cell_type": "code",
      "metadata": {
        "colab": {
          "base_uri": "https://localhost:8080/",
          "height": 379
        },
        "id": "Sg7xB5juwWxP",
        "outputId": "b27e548e-0f9e-4a15-c42f-cc8417de07cc"
      },
      "source": [
        "#one hot encoding\n",
        "from sklearn.preprocessing import OneHotEncoder\n",
        "\n",
        "strClasses = ['school_setting']\n",
        "for i in strClasses:\n",
        "  enc = OneHotEncoder(handle_unknown='ignore')\n",
        "  input_data = x_input[i].values.reshape(-1,1)\n",
        "\n",
        "  #fit data\n",
        "  enc.fit(input_data)\n",
        "  output_array = enc.transform(input_data).toarray()\n",
        "  for j in range(output_array.shape[1]):\n",
        "    x_input[i+'_oneHot_'+str(j)] = output_array[:,j]\n",
        "\n",
        "  x_input.pop(i)\n",
        "\n",
        "x_input.head()"
      ],
      "execution_count": null,
      "outputs": [
        {
          "output_type": "execute_result",
          "data": {
            "text/html": [
              "<div>\n",
              "<style scoped>\n",
              "    .dataframe tbody tr th:only-of-type {\n",
              "        vertical-align: middle;\n",
              "    }\n",
              "\n",
              "    .dataframe tbody tr th {\n",
              "        vertical-align: top;\n",
              "    }\n",
              "\n",
              "    .dataframe thead th {\n",
              "        text-align: right;\n",
              "    }\n",
              "</style>\n",
              "<table border=\"1\" class=\"dataframe\">\n",
              "  <thead>\n",
              "    <tr style=\"text-align: right;\">\n",
              "      <th></th>\n",
              "      <th>school</th>\n",
              "      <th>school_type</th>\n",
              "      <th>teaching_method</th>\n",
              "      <th>n_student</th>\n",
              "      <th>gender</th>\n",
              "      <th>lunch</th>\n",
              "      <th>pretest</th>\n",
              "      <th>school_setting_oneHot_0</th>\n",
              "      <th>school_setting_oneHot_1</th>\n",
              "      <th>school_setting_oneHot_2</th>\n",
              "    </tr>\n",
              "  </thead>\n",
              "  <tbody>\n",
              "    <tr>\n",
              "      <th>0</th>\n",
              "      <td>ANKYI</td>\n",
              "      <td>Non-public</td>\n",
              "      <td>Standard</td>\n",
              "      <td>20.0</td>\n",
              "      <td>Female</td>\n",
              "      <td>Does not qualify</td>\n",
              "      <td>62.0</td>\n",
              "      <td>0.0</td>\n",
              "      <td>0.0</td>\n",
              "      <td>1.0</td>\n",
              "    </tr>\n",
              "    <tr>\n",
              "      <th>1</th>\n",
              "      <td>ANKYI</td>\n",
              "      <td>Non-public</td>\n",
              "      <td>Standard</td>\n",
              "      <td>20.0</td>\n",
              "      <td>Female</td>\n",
              "      <td>Does not qualify</td>\n",
              "      <td>66.0</td>\n",
              "      <td>0.0</td>\n",
              "      <td>0.0</td>\n",
              "      <td>1.0</td>\n",
              "    </tr>\n",
              "    <tr>\n",
              "      <th>2</th>\n",
              "      <td>ANKYI</td>\n",
              "      <td>Non-public</td>\n",
              "      <td>Standard</td>\n",
              "      <td>20.0</td>\n",
              "      <td>Male</td>\n",
              "      <td>Does not qualify</td>\n",
              "      <td>64.0</td>\n",
              "      <td>0.0</td>\n",
              "      <td>0.0</td>\n",
              "      <td>1.0</td>\n",
              "    </tr>\n",
              "    <tr>\n",
              "      <th>3</th>\n",
              "      <td>ANKYI</td>\n",
              "      <td>Non-public</td>\n",
              "      <td>Standard</td>\n",
              "      <td>20.0</td>\n",
              "      <td>Female</td>\n",
              "      <td>Does not qualify</td>\n",
              "      <td>61.0</td>\n",
              "      <td>0.0</td>\n",
              "      <td>0.0</td>\n",
              "      <td>1.0</td>\n",
              "    </tr>\n",
              "    <tr>\n",
              "      <th>4</th>\n",
              "      <td>ANKYI</td>\n",
              "      <td>Non-public</td>\n",
              "      <td>Standard</td>\n",
              "      <td>20.0</td>\n",
              "      <td>Male</td>\n",
              "      <td>Does not qualify</td>\n",
              "      <td>64.0</td>\n",
              "      <td>0.0</td>\n",
              "      <td>0.0</td>\n",
              "      <td>1.0</td>\n",
              "    </tr>\n",
              "  </tbody>\n",
              "</table>\n",
              "</div>"
            ],
            "text/plain": [
              "  school school_type  ... school_setting_oneHot_1  school_setting_oneHot_2\n",
              "0  ANKYI  Non-public  ...                     0.0                      1.0\n",
              "1  ANKYI  Non-public  ...                     0.0                      1.0\n",
              "2  ANKYI  Non-public  ...                     0.0                      1.0\n",
              "3  ANKYI  Non-public  ...                     0.0                      1.0\n",
              "4  ANKYI  Non-public  ...                     0.0                      1.0\n",
              "\n",
              "[5 rows x 10 columns]"
            ]
          },
          "metadata": {
            "tags": []
          },
          "execution_count": 4
        }
      ]
    },
    {
      "cell_type": "code",
      "metadata": {
        "colab": {
          "base_uri": "https://localhost:8080/"
        },
        "id": "4w6yPCevgfuP",
        "outputId": "2099a0e8-345b-451a-d8e4-4f7877ade183"
      },
      "source": [
        "#remove all columns except one-hot for school type & pretest scores\n",
        "\n",
        "# not school type instead using school_setting for screenshot\n",
        "strClasses_remove=['school','school_type','teaching_method','n_student','gender','lunch','pretest']\n",
        "\n",
        "for i in strClasses_remove:  #removing the extraneous columns\n",
        "  x_input.pop(i)\n",
        "\n",
        "\n",
        "#x_input.head()\n",
        "print(x_input.loc[39:42]) #print specific rows from the dataframe\n",
        "\n",
        "# try removing school_type_one_hot_encoder_1 --> yep, it works b/c there are only 2 distinct values"
      ],
      "execution_count": null,
      "outputs": [
        {
          "output_type": "stream",
          "text": [
            "    school_setting_oneHot_0  school_setting_oneHot_1  school_setting_oneHot_2\n",
            "39                      0.0                      0.0                      1.0\n",
            "40                      0.0                      0.0                      1.0\n",
            "41                      0.0                      1.0                      0.0\n",
            "42                      0.0                      1.0                      0.0\n"
          ],
          "name": "stdout"
        }
      ]
    },
    {
      "cell_type": "code",
      "metadata": {
        "colab": {
          "base_uri": "https://localhost:8080/"
        },
        "id": "n5dFbJnOjHqQ",
        "outputId": "ba87c443-d071-48ac-da94-b5ecde928c5f"
      },
      "source": [
        "print(x_input.loc[39:39],'\\n')\n",
        "print(x_input.loc[41:41],'\\n')\n",
        "print(x_input.loc[460:460])\n"
      ],
      "execution_count": null,
      "outputs": [
        {
          "output_type": "stream",
          "text": [
            "    school_setting_oneHot_0  school_setting_oneHot_1  school_setting_oneHot_2\n",
            "39                      0.0                      0.0                      1.0 \n",
            "\n",
            "    school_setting_oneHot_0  school_setting_oneHot_1  school_setting_oneHot_2\n",
            "41                      0.0                      1.0                      0.0 \n",
            "\n",
            "     school_setting_oneHot_0  school_setting_oneHot_1  school_setting_oneHot_2\n",
            "460                      1.0                      0.0                      0.0\n"
          ],
          "name": "stdout"
        }
      ]
    },
    {
      "cell_type": "code",
      "metadata": {
        "colab": {
          "base_uri": "https://localhost:8080/"
        },
        "id": "HYFhJKAek3G2",
        "outputId": "5dcf4487-ac96-4a9c-ab2f-5a6ea3cd6a04"
      },
      "source": [
        "setting=df['school_setting']\n",
        "print(setting.loc[39:39],'\\n')\n",
        "print(setting.loc[41:41],'\\n')\n",
        "print(setting.loc[460:460])"
      ],
      "execution_count": null,
      "outputs": [
        {
          "output_type": "stream",
          "text": [
            "39    Urban\n",
            "Name: school_setting, dtype: object \n",
            "\n",
            "41    Suburban\n",
            "Name: school_setting, dtype: object \n",
            "\n",
            "460    Rural\n",
            "Name: school_setting, dtype: object\n"
          ],
          "name": "stdout"
        }
      ]
    },
    {
      "cell_type": "code",
      "metadata": {
        "colab": {
          "base_uri": "https://localhost:8080/"
        },
        "id": "MDAcO8kXyQs-",
        "outputId": "97304329-1c68-4d42-8ca1-160a89c7ac05"
      },
      "source": [
        "#R^2 value for pretest AND school type\n",
        "\n",
        "reg_2factors=LinearRegression().fit(x_input, y_vals)\n",
        "print(reg_2factors.score(x_input, y_vals))\n"
      ],
      "execution_count": null,
      "outputs": [
        {
          "output_type": "stream",
          "text": [
            "0.2102906922639166\n"
          ],
          "name": "stdout"
        }
      ]
    },
    {
      "cell_type": "code",
      "metadata": {
        "colab": {
          "base_uri": "https://localhost:8080/"
        },
        "id": "6eXBOpT0it1K",
        "outputId": "b2133bb9-345a-4acc-d854-b5834a938129"
      },
      "source": [
        "#using r2_score method\n",
        "\n",
        "y_predictions=reg_2factors.predict(x_input)\n",
        "print(r2_score(y_vals,y_predictions))\n",
        "\n",
        "## r2_score & reg.score return same value\n",
        "\n",
        "# this R^2 is a tiny bit (0.001) higher than the one for only pretest"
      ],
      "execution_count": null,
      "outputs": [
        {
          "output_type": "stream",
          "text": [
            "0.2102906922639166\n"
          ],
          "name": "stdout"
        }
      ]
    },
    {
      "cell_type": "code",
      "metadata": {
        "colab": {
          "base_uri": "https://localhost:8080/",
          "height": 313
        },
        "id": "RcYVknf6jHSu",
        "outputId": "9cc09eef-f3ee-44c4-bde3-79e53e647948"
      },
      "source": [
        "#plot real post-test scores vs. predicted post-test scores\n",
        "# no line of best fit\n",
        "\n",
        "plt.scatter(y_predictions,y_vals, color='purple')\n",
        "plt.title('predicted post-test based on pretest AND school type',fontsize=25)\n",
        "\n",
        "plt.xlabel('predicted post-test',fontsize=20)  # x-axis name\n",
        "plt.ylabel('real post-test',fontsize=20)  # y-axis name\n",
        "plt.show()"
      ],
      "execution_count": null,
      "outputs": [
        {
          "output_type": "display_data",
          "data": {
            "image/png": "[encoded data removed]",
            "text/plain": [
              "<Figure size 432x288 with 1 Axes>"
            ]
          },
          "metadata": {
            "tags": [],
            "needs_background": "light"
          }
        }
      ]
    },
    {
      "cell_type": "markdown",
      "metadata": {
        "id": "b8bi_ZiV_PW_"
      },
      "source": [
        "##Predicting post-test only based on Pretest\n"
      ]
    },
    {
      "cell_type": "code",
      "metadata": {
        "colab": {
          "base_uri": "https://localhost:8080/"
        },
        "id": "YrbCFINf9u1l",
        "outputId": "a10e492a-fab2-45b8-a623-3fb69a65e9ef"
      },
      "source": [
        "# based only off of pretest\n",
        "\n",
        "x_pretest=np.array(df['pretest'])\n",
        "x_pretest=x_pretest.reshape(-1,1)\n",
        "reg_1factor=LinearRegression().fit(x_pretest,y_vals)\n",
        "y_predictions_1factor=reg_1factor.predict(x_pretest)\n",
        "\n",
        "#R^2 value (only pretest)\n",
        "print(r2_score(y_vals,y_predictions_1factor))\n",
        "print(reg_1factor.score(x_pretest,y_vals))"
      ],
      "execution_count": null,
      "outputs": [
        {
          "output_type": "stream",
          "text": [
            "0.9041809248246263\n",
            "0.9041809248246262\n"
          ],
          "name": "stdout"
        }
      ]
    },
    {
      "cell_type": "code",
      "metadata": {
        "colab": {
          "base_uri": "https://localhost:8080/",
          "height": 313
        },
        "id": "eAw-GH8l-37p",
        "outputId": "1ab6e4b5-89ba-4050-fc59-8503379d6278"
      },
      "source": [
        "#plot predictions only off pretest\n",
        "\n",
        "plt.scatter(y_predictions_1factor,y_vals, color='teal')\n",
        "plt.title('predicted post-test based only on pretest',fontsize=25) #plot title\n",
        "\n",
        "plt.xlabel('predicted post-test',fontsize=20)  # x-axis name\n",
        "plt.ylabel('real post-test',fontsize=20)  # y-axis name\n",
        "#plt.annotate((\"r^2 = {:.4f}\".format(r2_score(y_vals, y_predictions_1factor))), (12, 90))\n",
        "plt.show()"
      ],
      "execution_count": null,
      "outputs": [
        {
          "output_type": "display_data",
          "data": {
            "image/png": "[encoded data removed]",
            "text/plain": [
              "<Figure size 432x288 with 1 Axes>"
            ]
          },
          "metadata": {
            "tags": [],
            "needs_background": "light"
          }
        }
      ]
    },
    {
      "cell_type": "markdown",
      "metadata": {
        "id": "Mzj-0Y3IX-1K"
      },
      "source": [
        "##Plot predicted post-test vs. pretests\n"
      ]
    },
    {
      "cell_type": "code",
      "metadata": {
        "colab": {
          "base_uri": "https://localhost:8080/",
          "height": 345
        },
        "id": "fAa6H8KtYEKZ",
        "outputId": "51d4e5ce-912e-4457-a2c2-ec74dc3fe400"
      },
      "source": [
        "#prediction on both school type and pretest\n",
        "plt.plot(x_pretest, reg_2factors.coef_[0] * x_pretest + reg_2factors.intercept_, color='magenta'); # plot prediction line (mx + b)\n",
        "plt.scatter(x_pretest, y_vals, s=15,color='lightblue')\n",
        "plt.title('predicted post-test based on \\nboth pretest and school type',fontsize=20) #plot title\n",
        "\n",
        "plt.xlabel('pretest scores',fontsize=15)  # x-axis name\n",
        "plt.ylabel('predicted post-test scores',fontsize=15)  # y-axis name\n",
        "plt.annotate((\"r^2 = {:.3f}\".format(r2_score(y_vals, y_predictions))), (25, 100))\n",
        "\n"
      ],
      "execution_count": null,
      "outputs": [
        {
          "output_type": "execute_result",
          "data": {
            "text/plain": [
              "Text(25, 100, 'r^2 = 0.210')"
            ]
          },
          "metadata": {
            "tags": []
          },
          "execution_count": 13
        },
        {
          "output_type": "display_data",
          "data": {
            "image/png": "[encoded data removed]",
            "text/plain": [
              "<Figure size 432x288 with 1 Axes>"
            ]
          },
          "metadata": {
            "tags": [],
            "needs_background": "light"
          }
        }
      ]
    },
    {
      "cell_type": "code",
      "metadata": {
        "colab": {
          "base_uri": "https://localhost:8080/",
          "height": 345
        },
        "id": "Dvg5uAH2kp-D",
        "outputId": "d4ddbb52-dd7f-4edd-b53c-ffae214bc9af"
      },
      "source": [
        "#prediction based only on pretest\n",
        "plt.plot(x_pretest, reg_1factor.coef_[0] * x_pretest + reg_1factor.intercept_, color='red') # plot prediction line (mx + b)\n",
        "plt.scatter(x_pretest, y_vals, s=15,color='lightgreen')\n",
        "plt.title('predicted post-test \\nbased only on pretest',fontsize=20) #plot title\n",
        "\n",
        "plt.xlabel('pretest scores',fontsize=15)  # x-axis name\n",
        "plt.ylabel('predicted post-test scores',fontsize=15)  # y-axis name\n",
        "plt.annotate((\"r^2 = {:.3f}\".format(r2_score(y_vals, y_predictions_1factor))), (25,100))\n"
      ],
      "execution_count": null,
      "outputs": [
        {
          "output_type": "execute_result",
          "data": {
            "text/plain": [
              "Text(25, 100, 'r^2 = 0.904')"
            ]
          },
          "metadata": {
            "tags": []
          },
          "execution_count": 14
        },
        {
          "output_type": "display_data",
          "data": {
            "image/png": "[encoded data removed]",
            "text/plain": [
              "<Figure size 432x288 with 1 Axes>"
            ]
          },
          "metadata": {
            "tags": [],
            "needs_background": "light"
          }
        }
      ]
    },
    {
      "cell_type": "code",
      "metadata": {
        "colab": {
          "base_uri": "https://localhost:8080/",
          "height": 70
        },
        "id": "rQUkxW7v4nT_",
        "outputId": "c75f68f2-7c1b-47d0-d389-43c0e5d16efa"
      },
      "source": [
        "\"\"\"\n",
        "1) only load dataframe once\n",
        "2) change \"df\"\n",
        "3) dont worry about line of best fit in the plots\n",
        "4) examine data before I fit model\n",
        "5) cleanup notebook (delete useless cells and comments)\n",
        "6) rename the models (change \"reg\") & improve comments\n",
        "7) before the meetings go to runtime --> restart and run all\n",
        "\"\"\""
      ],
      "execution_count": null,
      "outputs": [
        {
          "output_type": "execute_result",
          "data": {
            "application/vnd.google.colaboratory.intrinsic+json": {
              "type": "string"
            },
            "text/plain": [
              "'\\n1) only load dataframe once\\n2) change \"df\"\\n3) dont worry about line of best fit in the plots\\n4) examine data before I fit model\\n5) cleanup notebook (delete useless cells and comments)\\n6) rename the models (change \"reg\") & improve comments\\n7) before the meetings go to runtime --> restart and run all\\n'"
            ]
          },
          "metadata": {
            "tags": []
          },
          "execution_count": 15
        }
      ]
    },
    {
      "cell_type": "markdown",
      "metadata": {
        "id": "bpMin7hjX6iK"
      },
      "source": [
        "## Histograms...\n"
      ]
    },
    {
      "cell_type": "code",
      "metadata": {
        "colab": {
          "base_uri": "https://localhost:8080/",
          "height": 285
        },
        "id": "4XwBTGmH_8P9",
        "outputId": "425d9790-81c0-4b07-fce0-5da27ee81fb4"
      },
      "source": [
        "sns.set_theme(); np.random.seed(0)\n",
        "ax = sns.histplot(df['gender'])"
      ],
      "execution_count": null,
      "outputs": [
        {
          "output_type": "display_data",
          "data": {
            "image/png": "[encoded data removed]",
            "text/plain": [
              "<Figure size 432x288 with 1 Axes>"
            ]
          },
          "metadata": {
            "tags": []
          }
        }
      ]
    },
    {
      "cell_type": "code",
      "metadata": {
        "colab": {
          "base_uri": "https://localhost:8080/",
          "height": 285
        },
        "id": "DBA73NyaAdP4",
        "outputId": "b7813934-7d72-43b0-f81a-88be24cbcd7b"
      },
      "source": [
        "sns.set_theme(); np.random.seed(0)\n",
        "ax = sns.histplot(df['school_type'])"
      ],
      "execution_count": null,
      "outputs": [
        {
          "output_type": "display_data",
          "data": {
            "image/png": "[encoded data removed]",
            "text/plain": [
              "<Figure size 432x288 with 1 Axes>"
            ]
          },
          "metadata": {
            "tags": []
          }
        }
      ]
    },
    {
      "cell_type": "code",
      "metadata": {
        "id": "g0aYllV1AlVr",
        "colab": {
          "base_uri": "https://localhost:8080/",
          "height": 285
        },
        "outputId": "8d8cddc7-fe51-4421-f77b-9d982df61990"
      },
      "source": [
        "sns.set_theme(); np.random.seed(0)\n",
        "ax = sns.histplot(df['lunch'])"
      ],
      "execution_count": null,
      "outputs": [
        {
          "output_type": "display_data",
          "data": {
            "image/png": "[encoded data removed]",
            "text/plain": [
              "<Figure size 432x288 with 1 Axes>"
            ]
          },
          "metadata": {
            "tags": []
          }
        }
      ]
    },
    {
      "cell_type": "code",
      "metadata": {
        "colab": {
          "base_uri": "https://localhost:8080/",
          "height": 320
        },
        "id": "8jzUqEdMYj24",
        "outputId": "675427e7-c457-4438-e13b-0017bba07888"
      },
      "source": [
        "sns.set_theme(); np.random.seed(0)\n",
        "ax = sns.histplot(df['pretest'])\n",
        "ax = sns.histplot(df['posttest'], color='green')\n",
        "ax.set(xlabel=\"pretest (blue) and posttest (green)\", ylabel = \"Frequency\")"
      ],
      "execution_count": null,
      "outputs": [
        {
          "output_type": "execute_result",
          "data": {
            "text/plain": [
              "[Text(0, 0.5, 'Frequency'),\n",
              " Text(0.5, 0, 'pretest (blue) and posttest (green)')]"
            ]
          },
          "metadata": {
            "tags": []
          },
          "execution_count": 19
        },
        {
          "output_type": "display_data",
          "data": {
            "image/png": "[encoded data removed]",
            "text/plain": [
              "<Figure size 432x288 with 1 Axes>"
            ]
          },
          "metadata": {
            "tags": []
          }
        }
      ]
    },
    {
      "cell_type": "code",
      "metadata": {
        "colab": {
          "base_uri": "https://localhost:8080/",
          "height": 365
        },
        "id": "2NUSdwUBiE7Y",
        "outputId": "d369730f-cd04-4d0d-c827-941c84cba225"
      },
      "source": [
        "#plot predictions only off pretest\n",
        "\n",
        "plt.scatter(y_predictions_1factor,y_vals, s=11,color='lightgreen')\n",
        "plt.plot([0,10,20,30,40,50,60,70,80,90,100],[0,10,20,30,40,50,60,70,80,90,100],color='red')\n",
        "\n",
        "plt.xticks([0,10,20,30,40,50,60,70,80,90,100])\n",
        "plt.yticks([0,10,20,30,40,50,60,70,80,90,100])\n",
        "plt.title('real posttest vs. predicted posttest \\nbased only on pretest',fontsize=20) #plot title\n",
        "plt.xlabel('\\npredicted post-test scores',fontsize=15)  # x-axis name\n",
        "plt.ylabel('real post-test scores',fontsize=15)  # y-axis name\n",
        "plt.annotate((\"r^2 = {:.4f}\".format(r2_score(y_vals, y_predictions_1factor))), (12, 90))\n",
        "\n",
        "\n"
      ],
      "execution_count": null,
      "outputs": [
        {
          "output_type": "execute_result",
          "data": {
            "text/plain": [
              "Text(12, 90, 'r^2 = 0.9042')"
            ]
          },
          "metadata": {
            "tags": []
          },
          "execution_count": 20
        },
        {
          "output_type": "display_data",
          "data": {
            "image/png": "[encoded data removed]",
            "text/plain": [
              "<Figure size 432x288 with 1 Axes>"
            ]
          },
          "metadata": {
            "tags": []
          }
        }
      ]
    },
    {
      "cell_type": "code",
      "metadata": {
        "colab": {
          "base_uri": "https://localhost:8080/"
        },
        "id": "SLr_t5bVGOnr",
        "outputId": "807f1105-5bc5-49ca-cb34-3f328e1e525e"
      },
      "source": [
        "pre_scores=df[\"pretest\"]\n",
        "post_scores=df['posttest']\n",
        "pre_total=0\n",
        "pre_count=0\n",
        "post_count=0\n",
        "post_total=0\n",
        "for i in pre_scores:\n",
        "  pre_total+=pre_scores[i]\n",
        "  pre_count+=1\n",
        "for i in post_scores:\n",
        "  post_total+=post_scores[i]\n",
        "  post_count+=1\n",
        "\n",
        "pre_avg=pre_total/pre_count\n",
        "post_avg=post_total/post_count\n",
        "\n",
        "#print averages\n",
        "print(\"Pretest average is: \",pre_avg)\n",
        "print(\"Post-test average is: \",post_avg)\n",
        "print(\"rounded pretest avg is: \",round(pre_avg,4))\n",
        "print(\"rounded post-test avg is: \",round(post_avg,4))"
      ],
      "execution_count": null,
      "outputs": [
        {
          "output_type": "stream",
          "text": [
            "Pretest average is:  63.65119549929676\n",
            "Post-test average is:  80.29864041256447\n",
            "rounded pretest avg is:  63.6512\n",
            "rounded post-test avg is:  80.2986\n"
          ],
          "name": "stdout"
        }
      ]
    },
    {
      "cell_type": "code",
      "metadata": {
        "colab": {
          "base_uri": "https://localhost:8080/"
        },
        "id": "3fnyARq3IYC_",
        "outputId": "507c3c29-63c4-4ab0-953b-5055f3e36a53"
      },
      "source": [
        "# mean of 1factor prediction and also 2factor prediction\n",
        "from statistics import mean\n",
        "\n",
        "print(mean(y_predictions_1factor))\n",
        "print(mean(y_predictions))"
      ],
      "execution_count": null,
      "outputs": [
        {
          "output_type": "stream",
          "text": [
            "67.10220346929208\n",
            "67.10526547116737\n"
          ],
          "name": "stdout"
        }
      ]
    },
    {
      "cell_type": "code",
      "metadata": {
        "colab": {
          "base_uri": "https://localhost:8080/",
          "height": 166
        },
        "id": "1rCQWz1RO746",
        "outputId": "382c5c89-1c44-47c3-bc21-ca8ce287a5a7"
      },
      "source": [
        ""
      ],
      "execution_count": null,
      "outputs": [
        {
          "output_type": "error",
          "ename": "TypeError",
          "evalue": "ignored",
          "traceback": [
            "\u001b[0;31m---------------------------------------------------------------------------\u001b[0m",
            "\u001b[0;31mTypeError\u001b[0m                                 Traceback (most recent call last)",
            "\u001b[0;32m<ipython-input-29-0e566b70f572>\u001b[0m in \u001b[0;36m<module>\u001b[0;34m()\u001b[0m\n\u001b[0;32m----> 1\u001b[0;31m \u001b[0mdf\u001b[0m\u001b[0;34m.\u001b[0m\u001b[0mshape\u001b[0m\u001b[0;34m(\u001b[0m\u001b[0;34m)\u001b[0m\u001b[0;34m\u001b[0m\u001b[0;34m\u001b[0m\u001b[0m\n\u001b[0m",
            "\u001b[0;31mTypeError\u001b[0m: 'tuple' object is not callable"
          ]
        }
      ]
    },
    {
      "cell_type": "code",
      "metadata": {
        "colab": {
          "base_uri": "https://localhost:8080/",
          "height": 285
        },
        "id": "T1DZsSd8Mwbl",
        "outputId": "6d30fcd3-3749-4ec8-ed83-4b2ca7ec354c"
      },
      "source": [
        "sns.set_theme(); np.random.seed(0)\n",
        "ax = sns.histplot(df['school_setting'])"
      ],
      "execution_count": null,
      "outputs": [
        {
          "output_type": "display_data",
          "data": {
            "image/png": "[encoded data removed]",
            "text/plain": [
              "<Figure size 432x288 with 1 Axes>"
            ]
          },
          "metadata": {
            "tags": []
          }
        }
      ]
    },
    {
      "cell_type": "code",
      "metadata": {
        "colab": {
          "base_uri": "https://localhost:8080/"
        },
        "id": "6NUSHfTOOW66",
        "outputId": "621257af-3210-4375-c606-7e0a11dca7b3"
      },
      "source": [
        "sett=df['school_setting']\n",
        "count_u=0\n",
        "count_s=0\n",
        "count_r=0\n",
        "for i in sett:\n",
        "  if i=='Urban':\n",
        "    count_u+=1\n",
        "  elif i=='Suburban':\n",
        "    count_s+=1\n",
        "  elif i=='Rural':\n",
        "    count_r+=1\n",
        "\n",
        "print(\"Urban: \",count_u)\n",
        "print(\"Suburban: \",count_s)\n",
        "print(\"Rural: \",count_r)\n",
        "print(count_u+count_s+count_r)\n"
      ],
      "execution_count": null,
      "outputs": [
        {
          "output_type": "stream",
          "text": [
            "Urban:  906\n",
            "Suburban:  717\n",
            "Rural:  510\n",
            "2133\n"
          ],
          "name": "stdout"
        }
      ]
    }
  ]
}